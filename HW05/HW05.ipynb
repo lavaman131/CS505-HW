{
 "cells": [
  {
   "cell_type": "markdown",
   "metadata": {
    "id": "L4IEmrCq8Wxf"
   },
   "source": [
    "# CS 505 Homework 05:  Recurrent Neural Networks\n",
    "\n",
    "#### Due Monday  11/27 at midnight (1 minute after 11:59 pm) in Gradescope (with a grace period of 6 hours)\n",
    "#### You may submit the homework up to 24 hours late (with the same grace period) for a penalty of 10%.\n",
    "\n",
    "All homeworks will be scored with a maximum of 100 points; point values are given\n",
    "for individual problems, and if parts of problems do not have point values given, they\n",
    "will be counted equally toward the total for that problem.\n",
    "\n",
    "Note: This homework is a bit different from the first four in this class in that in some parts we are specified **what** you need to do for your solutions, but much less of the **how** you write the details of the code. There are three reasons for this:\n",
    "\n",
    "- In a graduate level CS class, after four homeworks and two months of lectures, you should be well-equipped to work out the coding issues for yourself, and in general, going forward, this is how you will solve the kinds of problems presented here;\n",
    "- Suggestions for resources (mostly ML blogs) will be suggested; there are many resources, but these are from bloggers that I trust and have used in the past;\n",
    "- I am expecting that you will make good use of chatGPT for help with the details of syntax and low-level organization of your code. There is often nothing very stimulating or informative about precisely what is the syntax needed for a particular kind of layer in a network, and rather than poke around on StackOverflow, chatGPT is particularly good at summarizing existing approaches to ML coding tasks.\n",
    "\n",
    "#### Submission Instructions\n",
    "\n",
    "You must complete the homework by editing <b>this notebook</b> and submitting the following two files in Gradescope by the due date and time:\n",
    "\n",
    "  - A file <code>HW05.ipynb</code> (be sure to select <code>Kernel -> Restart and Run All</code> before you submit, to make sure everything works); and\n",
    "  - A file <code>HW05.pdf</code> created from the previous.\n",
    "  \n",
    "  For best results obtaining a clean PDF file on the Mac, select <code>File -> Print Review</code> from the Jupyter window, then choose <code>File-> Print</code> in your browser and then <code>Save as PDF</code>.  Something  similar should be possible on a Windows machine -- just make sure it is readable and no cell contents have been cut off. Make it easy to grade!\n",
    "  \n",
    "The date and time of your submission is the last file you submitted, so if your IPYNB file is submitted on time, but your PDF is late, then your submission is late."
   ]
  },
  {
   "cell_type": "markdown",
   "metadata": {
    "id": "vAsi-ORE8Wxf"
   },
   "source": [
    "## Collaborators (5 pts)\n",
    "\n",
    "Describe briefly but precisely\n",
    "\n",
    "1. Any persons you discussed this homework with and the nature of the discussion;\n",
    "2. Any online resources you consulted and what information you got from those resources; and\n",
    "3. Any AI agents (such as chatGPT or CoPilot) or other applications you used to complete the homework, and the nature of the help you received.\n",
    "\n",
    "A few brief sentences is all that I am looking for here.\n",
    "\n",
    "I collaborated with Phillip Tran. I occasionally used chatGPT for minor debugging."
   ]
  },
  {
   "cell_type": "code",
   "execution_count": 1,
   "metadata": {
    "executionInfo": {
     "elapsed": 15636,
     "status": "ok",
     "timestamp": 1700521000822,
     "user": {
      "displayName": "Alex Lavaee",
      "userId": "12456354411202670063"
     },
     "user_tz": 300
    },
    "id": "zSdvpPwM8Wxh"
   },
   "outputs": [
    {
     "name": "stderr",
     "output_type": "stream",
     "text": [
      "Seed set to 42\n"
     ]
    }
   ],
   "source": [
    "import math\n",
    "import numpy as np\n",
    "from numpy.random import shuffle, seed, choice\n",
    "from lightning import seed_everything\n",
    "\n",
    "seed_everything(seed=42)\n",
    "from tqdm import tqdm\n",
    "from collections import defaultdict, Counter\n",
    "import pandas as pd\n",
    "import re\n",
    "\n",
    "from pathlib import Path\n",
    "import matplotlib.pyplot as plt\n",
    "import matplotlib_inline\n",
    "\n",
    "# get higher quality plots\n",
    "matplotlib_inline.backend_inline.set_matplotlib_formats(\"retina\")\n",
    "from typing import List, Tuple, Any, Dict, Optional, Union\n",
    "from tqdm import tqdm\n",
    "import numpy.typing as npt\n",
    "\n",
    "import torch\n",
    "from torch.utils.data import Dataset, DataLoader\n",
    "import torch.nn.functional as F\n",
    "from torch.utils.data import random_split, Dataset, DataLoader\n",
    "from torchvision import datasets, transforms\n",
    "from torch import nn, optim\n",
    "\n",
    "import torchvision.transforms as T\n",
    "\n",
    "from sklearn.decomposition import PCA, TruncatedSVD\n",
    "from sklearn.feature_extraction.text import TfidfVectorizer, CountVectorizer"
   ]
  },
  {
   "cell_type": "markdown",
   "metadata": {
    "id": "yZmCUzJb8Wxh"
   },
   "source": [
    "## Problem One:  Character-Level Generative Model (20 pts)\n",
    "\n",
    "A basic character-level model has been provided on the class web site in the row for Lecture 14:\n",
    "<a href=\"https://www.cs.bu.edu/fac/snyder/cs505/CharacterLevelLSTM.ipynb\">IPYNB</a>. Your first step is to download this and run it in Colab (or download the data file, which is in the CS 505 Data Directory and also linked on the web site, and run it on your local machine) and understand all its various features. Most of it is straight-forward at this point in the course, but the definition of the model is a bit messy, and you will need to read about LSTM layers in the Pytorch documents to really understand what it is doing and what the hyperparameters mean.\n",
    "\n",
    "Also take a look at the article \"The Unreasonable Effectiveness of Recurrent Neural Networks\" linked with lecture 14.\n",
    "\n",
    "For this problem, you will run this code on a dataset consisting of Java code files, which has been uploaded to the CS 505 Data Directory and also to the class web site: <a href=\"https://www.cs.bu.edu/fac/snyder/cs505/JavaFiles/\">DIR</a>  Select some number of these files and concatenate them into one long text file, such that you have approximately 10-20K characters (if you have trouble running out of RAM you can use fewer, but try to get at least 10K).\n",
    "\n",
    "You will run the character-level model on this dataset. You may either cut and paste code into this notebook, or submit the file with your changes and output along with this notebook to Gradescope.\n",
    "\n",
    "Your task is to get a character-level model that has not simply memorized the Java text file by overfitting, and does not do much other than spit out random characters (underfitting).  You will get the former if you simply run it for many epochs without any changes to the hyperparameters; you will get the latter if you run it only a few epochs.\n",
    "\n",
    "You should experiment with different hyperparameters, which in the notebook are indicated\n",
    "by\n",
    "\n",
    "          <== something to play with\n",
    "\n",
    "and try to get a model that seems to recognize typical Java syntax such as comments, matching parentheses, expressions, assignments, and formatting, but is not just repeating\n",
    "exact text from the data file. Clearly, the number of epochs plays a crucial role, but I also want you to\n",
    "experiment with the various hyperparameters to try to avoid overfitting. See my lectures on T 10/31 and Th 11/2 (recorded and on my YT channel) for the background to this.\n",
    "\n",
    "Note that the code you will work from does not use validation and testing sets, nor does it calculate the accuracy, but only tracks the loss. The nature of the data sets for character-level models does not seem to lend itself to accuracy metrics, but you may wish to try this -- I have not found it to be useful, but have simply focussed on the output and \"eyeballed\" the results to determine how much they have generalized\n",
    "from the data.\n",
    "\n",
    "Submit your notebook(s) to Gradescope as usual, and also provide a summary of your results in the next cell.\n"
   ]
  },
  {
   "cell_type": "markdown",
   "metadata": {
    "id": "aibUCNT2-FTi"
   },
   "source": [
    "## Problem One Solution"
   ]
  },
  {
   "cell_type": "code",
   "execution_count": 2,
   "metadata": {
    "id": "o62hMx5Z97tq"
   },
   "outputs": [],
   "source": [
    "DATA_DIR = Path(\"/data\")\n",
    "MAX_CHARS = 20000"
   ]
  },
  {
   "cell_type": "code",
   "execution_count": 3,
   "metadata": {},
   "outputs": [],
   "source": [
    "java_corpus_path = DATA_DIR.joinpath(\"java_corpus\", \"corpus.txt\")\n",
    "with open(java_corpus_path) as f:\n",
    "    corpus = f.read()[:MAX_CHARS]"
   ]
  },
  {
   "cell_type": "code",
   "execution_count": 4,
   "metadata": {},
   "outputs": [],
   "source": [
    "def create_sequences(\n",
    "    corpus: str, sequence_len: int = 100\n",
    ") -> Tuple[List[str], List[str]]:\n",
    "    input_sequences = []\n",
    "    target_sequences = []\n",
    "\n",
    "    for i in range(len(corpus) - sequence_len - 1):\n",
    "        input_sequences.append(corpus[i : i + sequence_len])\n",
    "        target_sequences.append(corpus[i + 1 : i + 1 + sequence_len])\n",
    "\n",
    "    return input_sequences, target_sequences"
   ]
  },
  {
   "cell_type": "code",
   "execution_count": 5,
   "metadata": {},
   "outputs": [
    {
     "name": "stdout",
     "output_type": "stream",
     "text": [
      "Input sequence:\n",
      " /* File: BSTExperiment.java\n",
      " * Authors: Brian Borucki and Wayne Snyder\n",
      " * Date: 9/10/13\n",
      " * Purpose: \n",
      "Target sequence:\n",
      " * File: BSTExperiment.java\n",
      " * Authors: Brian Borucki and Wayne Snyder\n",
      " * Date: 9/10/13\n",
      " * Purpose: T\n"
     ]
    }
   ],
   "source": [
    "input_sequences, target_sequences = create_sequences(corpus, 100)\n",
    "\n",
    "print(\"Input sequence:\\n\", input_sequences[0])\n",
    "print(\"Target sequence:\\n\", target_sequences[0])"
   ]
  },
  {
   "cell_type": "code",
   "execution_count": 6,
   "metadata": {},
   "outputs": [],
   "source": [
    "vocab = sorted(list(set(corpus)))"
   ]
  },
  {
   "cell_type": "code",
   "execution_count": 7,
   "metadata": {},
   "outputs": [],
   "source": [
    "class Tokenizer:\n",
    "    def __init__(\n",
    "        self, vocabulary: List[str], dtype: npt.DTypeLike = np.float32\n",
    "    ) -> None:\n",
    "        self.vocabulary = vocabulary\n",
    "        self.embedding_table = dict(zip(self.vocabulary, range(len(self.vocabulary))))\n",
    "        self.reverse_embedding_table = {\n",
    "            value: key for key, value in self.embedding_table.items()\n",
    "        }\n",
    "        self.embedding_dim = len(self.embedding_table)\n",
    "        self._identity = np.eye(self.embedding_dim, dtype=dtype)\n",
    "\n",
    "    def encode(self, sequence: str) -> np.ndarray:\n",
    "        sequence_ids = [self.embedding_table[s] for s in sequence]\n",
    "        return self._identity[sequence_ids][np.newaxis, :, :]\n",
    "\n",
    "    def decode(self, embedding: np.ndarray) -> str:\n",
    "        sequence_ids = np.argmax(embedding, axis=-1).squeeze()\n",
    "\n",
    "        text = [self.reverse_embedding_table[s] for s in sequence_ids]\n",
    "\n",
    "        return \"\".join(text)"
   ]
  },
  {
   "cell_type": "code",
   "execution_count": 8,
   "metadata": {},
   "outputs": [],
   "source": [
    "tok = Tokenizer(vocabulary=vocab)"
   ]
  },
  {
   "cell_type": "code",
   "execution_count": 9,
   "metadata": {},
   "outputs": [
    {
     "name": "stdout",
     "output_type": "stream",
     "text": [
      "/* File: BSTExperiment.java\n",
      " * Authors: Brian Borucki and Wayne Snyder\n",
      " * Date: 9/10/13\n",
      " * Purpose: \n",
      "/* File: BSTExperiment.java\n",
      " * Authors: Brian Borucki and Wayne Snyder\n",
      " * Date: 9/10/13\n",
      " * Purpose: \n"
     ]
    }
   ],
   "source": [
    "print(input_sequences[0])\n",
    "print(tok.decode(tok.encode(sequence=input_sequences[0])))"
   ]
  },
  {
   "cell_type": "code",
   "execution_count": 10,
   "metadata": {},
   "outputs": [],
   "source": [
    "sequence_len = 100\n",
    "input_sequences, target_sequences = create_sequences(\n",
    "    corpus=corpus, sequence_len=sequence_len\n",
    ")\n",
    "\n",
    "input_sequences = torch.concatenate(\n",
    "    [\n",
    "        torch.tensor(tok.encode(sequence=input_sequence), dtype=torch.float32)\n",
    "        for input_sequence in input_sequences\n",
    "    ],\n",
    "    dim=0,\n",
    ")\n",
    "\n",
    "target_sequences = torch.concatenate(\n",
    "    [\n",
    "        torch.tensor(tok.encode(sequence=target_sequence), dtype=torch.float32)\n",
    "        for target_sequence in target_sequences\n",
    "    ],\n",
    "    dim=0,\n",
    ")"
   ]
  },
  {
   "cell_type": "code",
   "execution_count": 11,
   "metadata": {},
   "outputs": [],
   "source": [
    "class CharacterDataset(Dataset):\n",
    "    def __init__(\n",
    "        self, input_sequences: torch.Tensor, target_sequences: torch.Tensor\n",
    "    ) -> None:\n",
    "        self.input_sequences = input_sequences\n",
    "        self.target_sequences = target_sequences\n",
    "\n",
    "    def __len__(self) -> int:\n",
    "        return len(self.input_sequences)\n",
    "\n",
    "    def __getitem__(self, index: int) -> Any:\n",
    "        return (self.input_sequences[index], self.target_sequences[index])"
   ]
  },
  {
   "cell_type": "code",
   "execution_count": 17,
   "metadata": {},
   "outputs": [
    {
     "name": "stdout",
     "output_type": "stream",
     "text": [
      "GPU is being used.\n"
     ]
    }
   ],
   "source": [
    "# set device\n",
    "if torch.cuda.is_available():\n",
    "    device = torch.device(\"cuda\")\n",
    "    print(\"GPU is being used.\")\n",
    "else:\n",
    "    device = torch.device(\"cpu\")\n",
    "    print(\"CPU is being used.\")"
   ]
  },
  {
   "cell_type": "code",
   "execution_count": 18,
   "metadata": {},
   "outputs": [],
   "source": [
    "class Model(nn.Module):\n",
    "    def __init__(\n",
    "        self,\n",
    "        input_size: int,\n",
    "        hidden_size: int,\n",
    "        num_layers: int,\n",
    "        dropout: float,\n",
    "        sequence_len: int,\n",
    "        device: torch.device,\n",
    "    ) -> None:\n",
    "        super().__init__()\n",
    "\n",
    "        self.input_size = input_size\n",
    "        self.hidden_size = hidden_size\n",
    "        self.num_layers = num_layers\n",
    "        self.dropout = dropout\n",
    "        self.sequence_len = sequence_len\n",
    "        self.device = device\n",
    "\n",
    "        self.lstm = nn.LSTM(\n",
    "            input_size=self.input_size,\n",
    "            hidden_size=self.hidden_size,\n",
    "            num_layers=self.num_layers,\n",
    "            dropout=self.dropout,\n",
    "            batch_first=True,\n",
    "        )\n",
    "\n",
    "        self.fcn = nn.ModuleList(\n",
    "            [\n",
    "                nn.Linear(in_features=self.hidden_size, out_features=256),\n",
    "                nn.GELU(),\n",
    "                nn.Linear(in_features=256, out_features=self.input_size),\n",
    "            ]\n",
    "        )\n",
    "\n",
    "        self.to(self.device)\n",
    "\n",
    "    def forward(self, x: torch.Tensor) -> torch.Tensor:\n",
    "        output, (h_n, c_n) = self.lstm(x)\n",
    "        output = output.contiguous().view(-1, self.hidden_size)\n",
    "        for layer in self.fcn:\n",
    "            output = layer(output)\n",
    "        return output\n",
    "\n",
    "    def softmax(self, proba: torch.Tensor, temperature: float = 1.0) -> torch.Tensor:\n",
    "        numerator = torch.exp(proba / temperature)\n",
    "        denominator = numerator.sum()\n",
    "        return numerator / denominator\n",
    "\n",
    "    def predict(self, sequence: str, temperature: float, tokenizer: Tokenizer) -> str:\n",
    "        assert temperature > 0, \"invalid temperature\"\n",
    "        if self.training:\n",
    "            self.eval()\n",
    "\n",
    "        input_sequence = torch.from_numpy(tokenizer.encode(sequence)).to(self.device)\n",
    "\n",
    "        with torch.no_grad():\n",
    "            output_sequence = self.forward(input_sequence).cpu()\n",
    "\n",
    "        proba = self.softmax(output_sequence[-1]).numpy()\n",
    "        return np.random.choice(tokenizer.vocabulary, p=proba)\n",
    "\n",
    "    def generate(\n",
    "        self,\n",
    "        sequence: str,\n",
    "        tokenizer: Tokenizer,\n",
    "        max_tokens: int = 512,\n",
    "        temperature: float = 1.0,\n",
    "    ) -> str:\n",
    "        generation_size = max_tokens - len(sequence)\n",
    "\n",
    "        assert (\n",
    "            generation_size >= 0\n",
    "        ), \"To generate new tokens you must increase `max tokens`\"\n",
    "        generated_chars = sequence\n",
    "\n",
    "        for _ in range(generation_size):\n",
    "            new_char = self.predict(\n",
    "                generated_chars, temperature=temperature, tokenizer=tokenizer\n",
    "            )\n",
    "            generated_chars += new_char\n",
    "\n",
    "        return generated_chars"
   ]
  },
  {
   "cell_type": "code",
   "execution_count": 19,
   "metadata": {},
   "outputs": [],
   "source": [
    "input_size = len(tok.vocabulary)\n",
    "model = Model(\n",
    "    input_size=input_size,\n",
    "    hidden_size=512,\n",
    "    num_layers=2,\n",
    "    dropout=0.0,\n",
    "    sequence_len=100,\n",
    "    device=device,\n",
    ")"
   ]
  },
  {
   "cell_type": "code",
   "execution_count": 20,
   "metadata": {},
   "outputs": [],
   "source": [
    "BS = 64\n",
    "dataset = CharacterDataset(\n",
    "    input_sequences=input_sequences, target_sequences=target_sequences\n",
    ")\n",
    "dataloader = DataLoader(dataset=dataset, batch_size=BS, shuffle=True, num_workers=6)"
   ]
  },
  {
   "cell_type": "code",
   "execution_count": 21,
   "metadata": {},
   "outputs": [],
   "source": [
    "loss_fn = nn.CrossEntropyLoss()\n",
    "optimizer = torch.optim.Adam(model.parameters(), lr=1e-4)\n",
    "\n",
    "\n",
    "def train(\n",
    "    num_epochs: int,\n",
    "    save_model_dir: Union[Path, str],\n",
    "    early_stopping: bool = True,\n",
    "    patience: int = 3,\n",
    ") -> Dict[str, List[float]]:\n",
    "    model.train()\n",
    "\n",
    "    UPDATE_INTERVAL = 8\n",
    "    best_epoch_idx = 0\n",
    "    p = 0\n",
    "\n",
    "    save_model_dir = Path(save_model_dir)\n",
    "    if not save_model_dir.exists():\n",
    "        save_model_dir.mkdir()\n",
    "\n",
    "    history = dict()\n",
    "    history[\"loss\"] = []\n",
    "\n",
    "    for epoch in range(num_epochs):\n",
    "        with tqdm(total=len(dataloader), unit=\"batch\", desc=f\"Epoch {epoch+1}\") as pbar:\n",
    "            N = 0\n",
    "            running_loss = 0.0\n",
    "\n",
    "            for idx, (input_sequence, target_sequence) in enumerate(dataloader):\n",
    "                input_sequence, target_sequence = (\n",
    "                    input_sequence.to(device),\n",
    "                    target_sequence.to(device),\n",
    "                )\n",
    "\n",
    "                optimizer.zero_grad()\n",
    "\n",
    "                pred_sequence = model(input_sequence)\n",
    "\n",
    "                loss = loss_fn(\n",
    "                    pred_sequence, target_sequence.contiguous().view(-1, input_size)\n",
    "                )\n",
    "                running_loss += loss.cpu().item() * len(target_sequence)\n",
    "                loss.backward()\n",
    "\n",
    "                nn.utils.clip_grad_norm_(model.parameters(), max_norm=1.0)\n",
    "\n",
    "                optimizer.step()\n",
    "\n",
    "                N += len(target_sequence)\n",
    "\n",
    "                if idx % UPDATE_INTERVAL == 0 or idx == len(dataloader) - 1:\n",
    "                    pbar.update(min(UPDATE_INTERVAL, len(dataloader) - pbar.n))\n",
    "                    pbar.set_postfix(loss=loss.cpu().item())\n",
    "\n",
    "            history[\"loss\"].append(running_loss / N)\n",
    "            loss = history[\"loss\"][-1]\n",
    "            pbar.set_postfix(loss=loss)\n",
    "\n",
    "            if early_stopping:\n",
    "                if p == patience:\n",
    "                    break\n",
    "\n",
    "                if loss < history[\"loss\"][best_epoch_idx]:\n",
    "                    p = 0\n",
    "                    best_epoch_idx = epoch\n",
    "                    torch.save(\n",
    "                        model.state_dict(),\n",
    "                        save_model_dir.joinpath(\n",
    "                            f\"epoch_{best_epoch_idx}_val_loss_{loss}.pth\"\n",
    "                        ),\n",
    "                    )\n",
    "                else:\n",
    "                    p += 1\n",
    "\n",
    "    return history"
   ]
  },
  {
   "cell_type": "code",
   "execution_count": 22,
   "metadata": {},
   "outputs": [
    {
     "name": "stderr",
     "output_type": "stream",
     "text": [
      "Epoch 1: 100%|██████████| 311/311 [00:08<00:00, 35.04batch/s, loss=3.03]\n",
      "Epoch 2: 100%|██████████| 311/311 [00:08<00:00, 35.34batch/s, loss=2.61]\n",
      "Epoch 3: 100%|██████████| 311/311 [00:08<00:00, 35.64batch/s, loss=2.49]\n",
      "Epoch 4: 100%|██████████| 311/311 [00:08<00:00, 35.74batch/s, loss=2.36]\n",
      "Epoch 5: 100%|██████████| 311/311 [00:08<00:00, 34.72batch/s, loss=2.21]\n",
      "Epoch 6: 100%|██████████| 311/311 [00:08<00:00, 35.28batch/s, loss=2.09]\n",
      "Epoch 7: 100%|██████████| 311/311 [00:08<00:00, 35.11batch/s, loss=1.97]\n",
      "Epoch 8: 100%|██████████| 311/311 [00:08<00:00, 35.13batch/s, loss=1.85]\n",
      "Epoch 9: 100%|██████████| 311/311 [00:08<00:00, 35.44batch/s, loss=1.73]\n",
      "Epoch 10: 100%|██████████| 311/311 [00:08<00:00, 35.15batch/s, loss=1.6] \n",
      "Epoch 11: 100%|██████████| 311/311 [00:09<00:00, 34.49batch/s, loss=1.48]\n",
      "Epoch 12: 100%|██████████| 311/311 [00:09<00:00, 34.07batch/s, loss=1.37]\n",
      "Epoch 13: 100%|██████████| 311/311 [00:08<00:00, 35.06batch/s, loss=1.26]\n",
      "Epoch 14: 100%|██████████| 311/311 [00:08<00:00, 35.16batch/s, loss=1.16]\n",
      "Epoch 15: 100%|██████████| 311/311 [00:08<00:00, 35.17batch/s, loss=1.07] \n",
      "Epoch 16: 100%|██████████| 311/311 [00:08<00:00, 35.13batch/s, loss=0.971]\n",
      "Epoch 17: 100%|██████████| 311/311 [00:08<00:00, 34.76batch/s, loss=0.879]\n",
      "Epoch 18: 100%|██████████| 311/311 [00:08<00:00, 34.65batch/s, loss=0.794]\n",
      "Epoch 19: 100%|██████████| 311/311 [00:08<00:00, 34.62batch/s, loss=0.715]\n",
      "Epoch 20: 100%|██████████| 311/311 [00:09<00:00, 34.26batch/s, loss=0.642]\n",
      "Epoch 21: 100%|██████████| 311/311 [00:09<00:00, 34.06batch/s, loss=0.575]\n",
      "Epoch 22: 100%|██████████| 311/311 [00:09<00:00, 33.80batch/s, loss=0.511]\n",
      "Epoch 23: 100%|██████████| 311/311 [00:09<00:00, 33.66batch/s, loss=0.455]\n",
      "Epoch 24: 100%|██████████| 311/311 [00:09<00:00, 33.69batch/s, loss=0.404]\n",
      "Epoch 25: 100%|██████████| 311/311 [00:09<00:00, 33.70batch/s, loss=0.36] \n",
      "Epoch 26: 100%|██████████| 311/311 [00:09<00:00, 33.69batch/s, loss=0.323]\n",
      "Epoch 27: 100%|██████████| 311/311 [00:09<00:00, 33.52batch/s, loss=0.292]\n",
      "Epoch 28: 100%|██████████| 311/311 [00:09<00:00, 33.50batch/s, loss=0.266]\n",
      "Epoch 29: 100%|██████████| 311/311 [00:09<00:00, 33.47batch/s, loss=0.245]\n",
      "Epoch 30: 100%|██████████| 311/311 [00:09<00:00, 33.43batch/s, loss=0.227]\n"
     ]
    }
   ],
   "source": [
    "history = train(num_epochs=30,\n",
    "                early_stopping=True,\n",
    "                save_model_dir=\"saved_models\",\n",
    "                patience=3)"
   ]
  },
  {
   "cell_type": "code",
   "execution_count": 23,
   "metadata": {},
   "outputs": [
    {
     "data": {
      "text/plain": [
       "Text(0, 0.5, 'Loss (Cross Entropy)')"
      ]
     },
     "execution_count": 23,
     "metadata": {},
     "output_type": "execute_result"
    },
    {
     "data": {
      "image/png": "[encoded data removed]",
      "text/plain": [
       "<Figure size 640x480 with 1 Axes>"
      ]
     },
     "metadata": {
      "image/png": {
       "height": 458,
       "width": 569
      }
     },
     "output_type": "display_data"
    }
   ],
   "source": [
    "fig = plt.figure()\n",
    "ax = fig.add_subplot(111)\n",
    "\n",
    "ax.plot(history[\"loss\"])\n",
    "ax.set_title(\"Training Loss\", fontsize=16)\n",
    "ax.set_xlabel(\"Epoch\")\n",
    "ax.set_ylabel(\"Loss (Cross Entropy)\")"
   ]
  },
  {
   "cell_type": "markdown",
   "metadata": {
    "id": "VnB5z-ZoZEa5"
   },
   "source": [
    "### Your analysis\n",
    "\n",
    "Please describe your experiments and cut and paste various outputs to show how the model performed at\n",
    "various numbers of epochs and with various hyperparameters. What characteristics of Java was it able to learn? What did it not learn? The article \"The Unreasonable ...\" does a nice job of showing this kind of behavior as the number of epochs increases, and you might look at it before writing your answer here."
   ]
  },
  {
   "cell_type": "markdown",
   "metadata": {},
   "source": [
    "### Testing different model checkpoints"
   ]
  },
  {
   "cell_type": "code",
   "execution_count": 24,
   "metadata": {},
   "outputs": [],
   "source": [
    "input_size = len(tok.vocabulary)\n",
    "model = Model(\n",
    "    input_size=input_size,\n",
    "    hidden_size=512,\n",
    "    num_layers=2,\n",
    "    dropout=0.0,\n",
    "    sequence_len=100,\n",
    "    device=device,\n",
    ")"
   ]
  },
  {
   "cell_type": "code",
   "execution_count": 25,
   "metadata": {},
   "outputs": [
    {
     "data": {
      "text/plain": [
       "<All keys matched successfully>"
      ]
     },
     "execution_count": 25,
     "metadata": {},
     "output_type": "execute_result"
    }
   ],
   "source": [
    "# start of training\n",
    "model.load_state_dict(torch.load(\"saved_models/epoch_1_val_loss_2.613534097066686.pth\"))"
   ]
  },
  {
   "cell_type": "code",
   "execution_count": 26,
   "metadata": {},
   "outputs": [
    {
     "name": "stdout",
     "output_type": "stream",
     "text": [
      "System.eupl..(tln wo\n",
      "for (int = 0        \n",
      "if (    ;   \n",
      "   nvse\n"
     ]
    }
   ],
   "source": [
    "text = \"System.\"\n",
    "\n",
    "print(model.generate(text, tokenizer=tok, max_tokens=20, temperature=1.0))\n",
    "\n",
    "text = \"for (int = 0\"\n",
    "print(model.generate(text, tokenizer=tok, max_tokens=20, temperature=1.0))\n",
    "\n",
    "text = \"if (\"\n",
    "print(model.generate(text, tokenizer=tok, max_tokens=20, temperature=1.0))"
   ]
  },
  {
   "cell_type": "code",
   "execution_count": 27,
   "metadata": {},
   "outputs": [
    {
     "data": {
      "text/plain": [
       "<All keys matched successfully>"
      ]
     },
     "execution_count": 27,
     "metadata": {},
     "output_type": "execute_result"
    }
   ],
   "source": [
    "# middle of training\n",
    "model.load_state_dict(\n",
    "    torch.load(\"saved_models/epoch_15_val_loss_0.9705041354101167.pth\")\n",
    ")"
   ]
  },
  {
   "cell_type": "code",
   "execution_count": 28,
   "metadata": {},
   "outputs": [
    {
     "name": "stdout",
     "output_type": "stream",
     "text": [
      "System.int p,rlintan\n",
      "for (int = 0; } < 0;\n",
      "if (\" 1 k.feft(te.\".\n"
     ]
    }
   ],
   "source": [
    "text = \"System.\"\n",
    "\n",
    "print(model.generate(text, tokenizer=tok, max_tokens=20, temperature=1.0))\n",
    "\n",
    "text = \"for (int = 0\"\n",
    "print(model.generate(text, tokenizer=tok, max_tokens=20, temperature=1.0))\n",
    "\n",
    "text = \"if (\"\n",
    "print(model.generate(text, tokenizer=tok, max_tokens=20, temperature=1.0))"
   ]
  },
  {
   "cell_type": "code",
   "execution_count": 30,
   "metadata": {},
   "outputs": [
    {
     "data": {
      "text/plain": [
       "<All keys matched successfully>"
      ]
     },
     "execution_count": 30,
     "metadata": {},
     "output_type": "execute_result"
    }
   ],
   "source": [
    "# end of training\n",
    "model.load_state_dict(\n",
    "    torch.load(\"saved_models/epoch_29_val_loss_0.22688169010207068.pth\")\n",
    ")"
   ]
  },
  {
   "cell_type": "code",
   "execution_count": 31,
   "metadata": {},
   "outputs": [
    {
     "name": "stdout",
     "output_type": "stream",
     "text": [
      "System.out.print(\", \n",
      "for (int = 0; i < A.\n",
      "if (n) \" \" lexethL 1\n"
     ]
    }
   ],
   "source": [
    "text = \"System.\"\n",
    "\n",
    "print(model.generate(text, tokenizer=tok, max_tokens=20, temperature=1.0))\n",
    "\n",
    "text = \"for (int = 0\"\n",
    "print(model.generate(text, tokenizer=tok, max_tokens=20, temperature=1.0))\n",
    "\n",
    "text = \"if (\"\n",
    "print(model.generate(text, tokenizer=tok, max_tokens=20, temperature=1.0))"
   ]
  },
  {
   "cell_type": "markdown",
   "metadata": {},
   "source": [
    "### Analysis\n",
    "\n",
    "I experimented with different model hyperparameters such as `num_layers` (number of stacked LSTMs), played around with hidden unit sizes: 128, 256, and 512, finding 512 to work the best. Experimenting with different number of epochs lead me to find 30 epochs converged to a lower loss without drastically overfitting. In addition, I played around with calculating the gradients by only calculating the gradient of the last character and the gradients of the entire sequence. Calculating the gradients of the entire sequence seemed to yield better performance, however, it is not certain if that result is conclusive. I also experimented with a sequence length of 100 and 128, finding that 100 performs better since the LSTM does not have to worry about long term dependencies. I also played around with the configuration of the fully connected portion of the network, testing two hidden layers and the GELU activation function. These seemed to qualitatively improve the performance, so I kept those additions. From my experimentation, the trained model started to be able to learn the basic syntax of Java like `for`, `if`, and `System.out.println`, but is still very lacking. The model was not able to nail the syntax of the language and seems to have memorized the dataset. It also lacks the ability to write functional code. Furthermore, playing around with the temperature did not yield any more convincing results."
   ]
  },
  {
   "cell_type": "markdown",
   "metadata": {
    "id": "AP4VdFkR8Wxi"
   },
   "source": [
    "## Problem Two:  Word-Level Generative Model (40 pts)\n",
    "\n",
    "In this problem you will write another generative model, as you did in HW 03, but this time you will use an LSTM network, GloVe word embeddings, and beam search.\n",
    "\n",
    "Before you start, read the following blog post to see the core ideas involved in creating a generative model using word embeddings:\n",
    "\n",
    "https://machinelearningmastery.com/how-to-develop-a-word-level-neural-language-model-in-keras/\n",
    "\n",
    "You may also wish to consult with chatGPT about how to develop this kind of model in Pytorch.\n",
    "\n",
    "The requirements for this problem are as follows (they mostly consist of the extensions proposed at\n",
    "the end of the blog post linked above):\n",
    "\n",
    "- Develop your code in Pytorch, not Keras\n",
    "- Use the novel *Persuation* by Jane Austen as your training data (available through the NLTK, you can just grab the sentences using `nltk.corpus.gutenberg.sents('austen-persuasion.txt')`); if you have trouble with RAM you will need to cut down the number of sentences (perhaps by eliminating the longest sentences as well, see next point).\n",
    "- Develop a sentence-level model by padding sentences to the maximum sentence length in the novel (if this seems extreme, you may wish to delete a small number of the longest sentences to reduce the maximum length). Surround your data sentences with `<s>` and `</s>` and your model should generate one sentence at a time (as you did in HW 03), i.e., it should stop if it generates the `</s>` token.\n",
    "- Use pretrained GLoVe embeddings with dimension 200, and update them (refine by training further) on the sentences in the novel; if you have trouble with RAM you may use a smaller dimension.\n",
    "- Experiment with the hyperparameters (sample length, number of layers, uni- or bi-directional, weight_decay, dropout, number of epochs, temperature of the softmax, etc.) as you did in Problem One to find the \"sweet spot\" where you are generating interesting-looking sentences but not simply repeating sentences from the data. You may want to try adding more linear layers on top to pick the most likely next word.\n",
    "- Generate sentences using Beam Search, which we describe below.\n",
    "\n",
    "Your solution should be the code, samples of sentences generated with their score (described below), and your description of the investigation of various hyperparameters, and what strategy ended up seeming to generate the most realistic sentences that were not simply a repeat of sentences in the data.\n"
   ]
  },
  {
   "cell_type": "markdown",
   "metadata": {
    "id": "c3zQCQyy8Wxi"
   },
   "source": [
    "### Beam Search\n",
    "\n",
    "Beam search was described, and example shown, in Lecture 14. Here is a brief pseudo-code explaination of what\n",
    "you need to do:\n",
    "\n",
    "1. Develop your code as described above so that it can generate single sentences;\n",
    "2. Copy enough of your code over from HW 03 so that you can calculate the perplexity of\n",
    "        sentences (using the entire novel, or perhaps even a number of Jane Austen's novels as\n",
    "        the data source). As an alternative, you may wish to do this separately, store the nested dictionary\n",
    "        using Pickle, and load it here.\n",
    "3. Calculate the probability distribution of sentences in your data source that you used in the previous step, similar to what you did at the end of HW 01.\n",
    "4. Create a \"goodness function\" which estimates the quality of a sentence as the perplexity times the probability of its length.  This will be applied to all sequences of words, and not just sentences, but as a first approximation this is a way to attempt to make the distribution of sentence lengths similar to that in the novel.\n",
    "5. Follow the description in slide 7 of Lecture 14 to generate until you have 10 finished sentences. Print these out with their perplexity, probability of their length, and the combined goodness metric."
   ]
  },
  {
   "cell_type": "markdown",
   "metadata": {},
   "source": [
    "## Problem Two Solution"
   ]
  },
  {
   "cell_type": "code",
   "execution_count": 2,
   "metadata": {},
   "outputs": [],
   "source": [
    "import nltk\n",
    "from nltk.corpus import gutenberg\n",
    "from nltk.tokenize import NLTKWordTokenizer\n",
    "from tqdm import tqdm\n",
    "import numpy as np\n",
    "from typing import List, Tuple, Any\n",
    "import torch\n",
    "import heapq\n",
    "from collections import Counter"
   ]
  },
  {
   "cell_type": "code",
   "execution_count": 141,
   "metadata": {},
   "outputs": [
    {
     "name": "stderr",
     "output_type": "stream",
     "text": [
      "[nltk_data] Downloading package gutenberg to\n",
      "[nltk_data]     /home/alilavaee/nltk_data...\n",
      "[nltk_data]   Package gutenberg is already up-to-date!\n",
      "[nltk_data] Downloading package punkt to /home/alilavaee/nltk_data...\n",
      "[nltk_data]   Package punkt is already up-to-date!\n"
     ]
    },
    {
     "data": {
      "text/plain": [
       "True"
      ]
     },
     "execution_count": 141,
     "metadata": {},
     "output_type": "execute_result"
    }
   ],
   "source": [
    "nltk.download(\"gutenberg\")\n",
    "nltk.download(\"punkt\")"
   ]
  },
  {
   "cell_type": "code",
   "execution_count": 142,
   "metadata": {},
   "outputs": [],
   "source": [
    "sentences = list(gutenberg.sents(\"austen-persuasion.txt\"))"
   ]
  },
  {
   "cell_type": "code",
   "execution_count": 143,
   "metadata": {},
   "outputs": [
    {
     "data": {
      "text/plain": [
       "3747"
      ]
     },
     "execution_count": 143,
     "metadata": {},
     "output_type": "execute_result"
    }
   ],
   "source": [
    "len(sentences)"
   ]
  },
  {
   "cell_type": "code",
   "execution_count": 144,
   "metadata": {},
   "outputs": [],
   "source": [
    "SPECIAL_TOKENS = [\"[PAD]\", \"<s>\", \"</s>\"]\n",
    "EMBEDDING_DIM = 200\n",
    "BASE_EMBEDDING_SIZE = 400000\n",
    "PADDING_IDX = 0"
   ]
  },
  {
   "cell_type": "code",
   "execution_count": 145,
   "metadata": {},
   "outputs": [],
   "source": [
    "def preprocess_sentences(sentences: List[List[str]]) -> List[List[str]]:\n",
    "    processed_sentences = []\n",
    "    for sentence in sentences:\n",
    "        s = [\"<s>\"]\n",
    "        for word in sentence:\n",
    "            s.append(word)\n",
    "        s.append(\"</s>\")\n",
    "        processed_sentences.append(s)\n",
    "    return processed_sentences"
   ]
  },
  {
   "cell_type": "code",
   "execution_count": 146,
   "metadata": {},
   "outputs": [],
   "source": [
    "processed_sentences = preprocess_sentences(sentences=sentences)\n",
    "words = [w for s in processed_sentences for w in s]"
   ]
  },
  {
   "cell_type": "code",
   "execution_count": 147,
   "metadata": {},
   "outputs": [],
   "source": [
    "def create_sequences(\n",
    "    words: List[str], sequence_len: int = 50\n",
    ") -> Tuple[List[List[str]], List[List[str]]]:\n",
    "    input_sequences = []\n",
    "    target_sequences = []\n",
    "\n",
    "    for i in range(len(words) - sequence_len - 1):\n",
    "        input_sequences.append(words[i : i + sequence_len])\n",
    "        target_sequences.append(words[i + 1 : i + 1 + sequence_len])\n",
    "\n",
    "    return input_sequences, target_sequences"
   ]
  },
  {
   "cell_type": "code",
   "execution_count": 148,
   "metadata": {},
   "outputs": [
    {
     "name": "stderr",
     "output_type": "stream",
     "text": [
      "100%|██████████| 400000/400000 [00:02<00:00, 142029.01it/s]\n"
     ]
    }
   ],
   "source": [
    "vocab = []\n",
    "embeddings = []\n",
    "unique_words = set(words)\n",
    "\n",
    "for t in SPECIAL_TOKENS:\n",
    "    vocab.append(t)\n",
    "    embeddings.append(\n",
    "        torch.normal(mean=0, std=1, size=(EMBEDDING_DIM,), dtype=torch.float32)\n",
    "    )\n",
    "\n",
    "with open(\"/data/glove_6B/glove.6B.200d.txt\") as f:\n",
    "    for line in tqdm(f.readlines(), total=BASE_EMBEDDING_SIZE):\n",
    "        content = line.split()\n",
    "        word, vector = content[0], content[1:]\n",
    "        if word in unique_words:\n",
    "            vocab.append(word)\n",
    "            vector = np.array(vector, dtype=np.float32)\n",
    "            embeddings.append(torch.from_numpy(vector))"
   ]
  },
  {
   "cell_type": "code",
   "execution_count": 149,
   "metadata": {},
   "outputs": [
    {
     "name": "stderr",
     "output_type": "stream",
     "text": [
      "100%|██████████| 6133/6133 [00:01<00:00, 5454.19it/s]\n"
     ]
    }
   ],
   "source": [
    "for word in tqdm(unique_words):\n",
    "    if word not in set(vocab):\n",
    "        vocab.append(word)\n",
    "        embeddings.append(\n",
    "            torch.normal(mean=0, std=1, size=(EMBEDDING_DIM,), dtype=torch.float32)\n",
    "        )"
   ]
  },
  {
   "cell_type": "code",
   "execution_count": 150,
   "metadata": {},
   "outputs": [
    {
     "data": {
      "text/plain": [
       "6134"
      ]
     },
     "execution_count": 150,
     "metadata": {},
     "output_type": "execute_result"
    }
   ],
   "source": [
    "len(vocab)"
   ]
  },
  {
   "cell_type": "code",
   "execution_count": 151,
   "metadata": {},
   "outputs": [],
   "source": [
    "embeddings = torch.stack(embeddings, dim=0)"
   ]
  },
  {
   "cell_type": "code",
   "execution_count": 152,
   "metadata": {},
   "outputs": [
    {
     "data": {
      "text/plain": [
       "torch.Size([6134, 200])"
      ]
     },
     "execution_count": 152,
     "metadata": {},
     "output_type": "execute_result"
    }
   ],
   "source": [
    "embeddings.size()"
   ]
  },
  {
   "cell_type": "code",
   "execution_count": 153,
   "metadata": {},
   "outputs": [],
   "source": [
    "sentence_lengths = [len(s) for s in sentences]\n",
    "total_sentence_lengths = sum(sentence_lengths)\n",
    "sentence_lengths = Counter(sentence_lengths)\n",
    "sentence_length_probas = {\n",
    "    length: freq / total_sentence_lengths for length, freq in sentence_lengths.items()\n",
    "}"
   ]
  },
  {
   "cell_type": "code",
   "execution_count": 154,
   "metadata": {},
   "outputs": [],
   "source": [
    "class Tokenizer:\n",
    "    def __init__(\n",
    "        self,\n",
    "        vocabulary: List[str],\n",
    "        special_tokens: List[str],\n",
    "        dtype: torch.dtype = torch.int64,\n",
    "    ) -> None:\n",
    "        self.vocabulary = vocabulary\n",
    "        self.special_tokens = special_tokens\n",
    "        self.embedding_table = dict(zip(self.vocabulary, range(len(self.vocabulary))))\n",
    "        self.reverse_embedding_table = {\n",
    "            value: key for key, value in self.embedding_table.items()\n",
    "        }\n",
    "        self.embedding_dim = len(self.embedding_table)\n",
    "        self.dtype = dtype\n",
    "\n",
    "    def encode(self, sequence: List[str]) -> torch.Tensor:\n",
    "        sequence_ids = torch.tensor(\n",
    "            [[self.embedding_table[s] for s in sequence]], dtype=self.dtype\n",
    "        )\n",
    "        return sequence_ids\n",
    "\n",
    "    def decode(\n",
    "        self, sequence_ids: torch.Tensor, skip_special_tokens: bool = True\n",
    "    ) -> List[str]:\n",
    "        tokens = [self.reverse_embedding_table[s] for s in sequence_ids.numpy()]\n",
    "        if skip_special_tokens:\n",
    "            tokens = list(filter(lambda t: t not in set(self.special_tokens), tokens))\n",
    "        return tokens"
   ]
  },
  {
   "cell_type": "code",
   "execution_count": 155,
   "metadata": {},
   "outputs": [],
   "source": [
    "class GutenBergDataset(Dataset):\n",
    "    def __init__(\n",
    "        self,\n",
    "        vocab_size: int,\n",
    "        input_sequences: torch.Tensor,\n",
    "        target_sequences: torch.Tensor,\n",
    "        dtype: torch.dtype = torch.float32,\n",
    "    ) -> None:\n",
    "        self.vocab_size = vocab_size\n",
    "        self.input_sequences = input_sequences\n",
    "        self.target_sequences = target_sequences\n",
    "        self.dtype = dtype\n",
    "        self._one_hot_matrix = torch.eye(self.vocab_size, dtype=self.dtype)\n",
    "\n",
    "    def __len__(self) -> int:\n",
    "        return len(self.input_sequences)\n",
    "\n",
    "    def __getitem__(self, index: int) -> Tuple[torch.Tensor, torch.Tensor]:\n",
    "        input_sequence = self.input_sequences[index]\n",
    "        target_sequence = self.target_sequences[index]\n",
    "        one_hot_target = self._one_hot_matrix[target_sequence]\n",
    "        return input_sequence, one_hot_target"
   ]
  },
  {
   "cell_type": "code",
   "execution_count": 164,
   "metadata": {},
   "outputs": [],
   "source": [
    "class Model(nn.Module):\n",
    "    def __init__(\n",
    "        self,\n",
    "        embed_dim: int,\n",
    "        embeddings: torch.Tensor,\n",
    "        hidden_size: int,\n",
    "        num_layers: int,\n",
    "        dropout: float,\n",
    "        device: torch.device,\n",
    "        freeze_embedding_weights: bool = True,\n",
    "        padding_idx: int = 0,\n",
    "    ) -> None:\n",
    "        super().__init__()\n",
    "\n",
    "        self.embed_dim = embed_dim\n",
    "        self.num_embeddings = embeddings.size(0)\n",
    "        self.hidden_size = hidden_size\n",
    "        self.num_layers = num_layers\n",
    "        self.dropout = dropout\n",
    "        self.device = device\n",
    "        self.padding_idx = padding_idx\n",
    "        self.word_tokenizer = NLTKWordTokenizer()\n",
    "\n",
    "        self.embed = nn.Embedding.from_pretrained(\n",
    "            embeddings=embeddings,\n",
    "            padding_idx=self.padding_idx,\n",
    "            freeze=freeze_embedding_weights,\n",
    "        )\n",
    "\n",
    "        self.lstm = nn.LSTM(\n",
    "            input_size=self.embed_dim,\n",
    "            hidden_size=self.hidden_size,\n",
    "            num_layers=self.num_layers,\n",
    "        )\n",
    "\n",
    "        self.fcn = nn.ModuleList(\n",
    "            [\n",
    "                nn.Linear(in_features=self.hidden_size, out_features=256),\n",
    "                nn.BatchNorm1d(num_features=256),\n",
    "                nn.GELU(),\n",
    "                nn.Linear(in_features=256, out_features=self.num_embeddings),\n",
    "            ]\n",
    "        )\n",
    "\n",
    "        self.to(self.device)\n",
    "\n",
    "    def forward(self, x: torch.Tensor) -> torch.Tensor:\n",
    "        sequence_len = x.size(1)\n",
    "        output = self.embed(x)\n",
    "        output, (h_n, c_n) = self.lstm(output)\n",
    "        output = output.contiguous().view(-1, self.hidden_size)\n",
    "        for layer in self.fcn:\n",
    "            output = layer(output)\n",
    "        output = output.view(-1, sequence_len, self.num_embeddings)\n",
    "        return output\n",
    "\n",
    "    def softmax(self, proba: torch.Tensor, temperature: float = 1.0) -> torch.Tensor:\n",
    "        numerator = torch.exp(proba / temperature)\n",
    "        denominator = numerator.sum()\n",
    "        return numerator / denominator\n",
    "\n",
    "    def calculate_perplexity(self, sum_log_proba: float, N: int) -> float:\n",
    "        perplexity = math.exp((-1 / N) * sum_log_proba)\n",
    "        return perplexity\n",
    "\n",
    "    def calculate_goodness(\n",
    "        self, perplexity: float, sentence_length_proba: float\n",
    "    ) -> float:\n",
    "        return math.exp(math.log(perplexity) + math.log(sentence_length_proba))\n",
    "\n",
    "    def select_idx(\n",
    "        self,\n",
    "        proba: torch.Tensor,\n",
    "        proba_indices: torch.Tensor,\n",
    "        num_samples: int,\n",
    "        strategy: str,\n",
    "    ) -> torch.Tensor:\n",
    "        assert strategy in [\"max\", \"sample\"], \"strategy must be `max` or `sample`\"\n",
    "        if strategy == \"max\":\n",
    "            idx = proba_indices[:num_samples]\n",
    "        else:\n",
    "            idx = torch.multinomial(\n",
    "                input=proba, num_samples=num_samples, replacement=True\n",
    "            )\n",
    "        return idx\n",
    "\n",
    "    def greedy(\n",
    "        self,\n",
    "        sequence: List[str],\n",
    "        temperature: float,\n",
    "        tokenizer: Tokenizer,\n",
    "        max_generation_size: int,\n",
    "        sentence_length_probas: Dict[int, float],\n",
    "        top_k: Optional[int],\n",
    "        top_p: Optional[float],\n",
    "    ) -> List[Dict[str, Any]]:\n",
    "        seq = []\n",
    "        seq.extend(sequence)\n",
    "        sum_log_proba = 0\n",
    "        for _ in range(max_generation_size):\n",
    "            proba, proba_indices = self.predict(\n",
    "                sequence=seq,\n",
    "                tokenizer=tokenizer,\n",
    "                temperature=temperature,\n",
    "                top_k=top_k,\n",
    "                top_p=top_p,\n",
    "            )\n",
    "            idx = self.select_idx(\n",
    "                proba=proba,\n",
    "                proba_indices=proba_indices,\n",
    "                num_samples=1,\n",
    "                strategy=\"sample\" if top_k or top_p else \"max\",\n",
    "            )\n",
    "            next_seq = tokenizer.decode(idx, skip_special_tokens=True)\n",
    "\n",
    "            if next_seq == \"</s>\":\n",
    "                break\n",
    "\n",
    "            seq.extend(next_seq)\n",
    "            sum_log_proba += math.log(proba.index_select(dim=0, index=idx))\n",
    "\n",
    "        seq_len = len(seq) - 1\n",
    "        perplexity = self.calculate_perplexity(sum_log_proba=sum_log_proba, N=seq_len)\n",
    "        length_proba = sentence_length_probas[seq_len]\n",
    "        goodness = self.calculate_goodness(\n",
    "            perplexity=perplexity, sentence_length_proba=length_proba\n",
    "        )\n",
    "\n",
    "        return [\n",
    "            {\n",
    "                \"generation\": seq[1:],\n",
    "                \"perplexity\": perplexity,\n",
    "                \"sentence_length_proba\": length_proba,\n",
    "                \"goodness\": goodness,\n",
    "            }\n",
    "        ]\n",
    "\n",
    "    def beam_search(\n",
    "        self,\n",
    "        sequence: List[str],\n",
    "        temperature: float,\n",
    "        tokenizer: Tokenizer,\n",
    "        max_generation_size: int,\n",
    "        sentence_length_probas: Dict[int, float],\n",
    "        top_k: Optional[int],\n",
    "        top_p: Optional[float],\n",
    "        max_generate_sentences: int,\n",
    "        beam_width: int,\n",
    "    ) -> List[Dict[str, Any]]:\n",
    "        priority_queue = [(0.0, 0.0, sequence)]\n",
    "        heapq.heapify(priority_queue)\n",
    "        generated_sentences = []\n",
    "        while (\n",
    "            len(generated_sentences) < max_generate_sentences\n",
    "            and len(priority_queue) > 0\n",
    "        ):\n",
    "            perplexity, cum_log_proba, seq = heapq.heappop(priority_queue)\n",
    "            proba, proba_indices = self.predict(\n",
    "                sequence=seq,\n",
    "                tokenizer=tokenizer,\n",
    "                temperature=temperature,\n",
    "                top_k=top_k,\n",
    "                top_p=top_p,\n",
    "            )\n",
    "            candidates = self.select_idx(\n",
    "                proba=proba,\n",
    "                proba_indices=proba_indices,\n",
    "                num_samples=beam_width,\n",
    "                strategy=\"sample\" if top_k or top_p else \"max\",\n",
    "            )\n",
    "            next_sequences = tokenizer.decode(candidates, skip_special_tokens=False)\n",
    "            # print(next_sequences)\n",
    "            for idx, next_seq in zip(candidates, next_sequences):\n",
    "                if next_seq != \"</s>\":\n",
    "                    sum_log_proba = cum_log_proba + math.log(\n",
    "                        proba.index_select(dim=0, index=idx)\n",
    "                    )\n",
    "                    new_seq = seq + [next_seq]\n",
    "                else:\n",
    "                    sum_log_proba = cum_log_proba\n",
    "                    new_seq = seq\n",
    "\n",
    "                # len(new_seq) - 1 because we are excluding <s> special token in calculation\n",
    "                seq_len = len(new_seq) - 1\n",
    "\n",
    "                perplexity = self.calculate_perplexity(\n",
    "                    sum_log_proba=sum_log_proba, N=seq_len\n",
    "                )\n",
    "\n",
    "                if next_seq == \"</s>\" or seq_len == max_generation_size:\n",
    "                    length_proba = sentence_length_probas[seq_len]\n",
    "                    goodness = self.calculate_goodness(\n",
    "                        perplexity=perplexity, sentence_length_proba=length_proba\n",
    "                    )\n",
    "                    generated_sentences.append(\n",
    "                        {\n",
    "                            \"generation\": seq[1:],\n",
    "                            \"perplexity\": perplexity,\n",
    "                            \"sentence_length_proba\": length_proba,\n",
    "                            \"goodness\": goodness,\n",
    "                        }\n",
    "                    )\n",
    "                    continue\n",
    "\n",
    "                heapq.heappush(priority_queue, (perplexity, sum_log_proba, new_seq))\n",
    "        return generated_sentences\n",
    "\n",
    "    def predict(\n",
    "        self,\n",
    "        sequence: List[str],\n",
    "        temperature: float,\n",
    "        tokenizer: Tokenizer,\n",
    "        top_k: Optional[int],\n",
    "        top_p: Optional[float],\n",
    "    ) -> Tuple[torch.Tensor, torch.Tensor]:\n",
    "        # checks\n",
    "        assert temperature > 0, \"invalid temperature\"\n",
    "\n",
    "        if self.training:\n",
    "            self.eval()\n",
    "\n",
    "        input_sequence = tokenizer.encode(sequence).to(self.device)\n",
    "\n",
    "        with torch.no_grad():\n",
    "            output_sequence = self.forward(input_sequence).cpu()\n",
    "\n",
    "        proba = self.softmax(output_sequence[0, -1, :])\n",
    "        proba_indices = torch.argsort(proba, descending=True).numpy()\n",
    "\n",
    "        cutoff_idx = len(proba_indices) - 1\n",
    "\n",
    "        if top_k:\n",
    "            cutoff_idx = min(cutoff_idx, top_k)\n",
    "\n",
    "        if top_p:\n",
    "            cum_proba = 0.0\n",
    "            idx = 0\n",
    "            while cum_proba < top_p and idx <= cutoff_idx:\n",
    "                cum_proba += float(proba[proba_indices[idx]].item())\n",
    "                idx += 1\n",
    "\n",
    "            cutoff_idx = idx\n",
    "\n",
    "        if cutoff_idx < len(proba_indices) - 1:\n",
    "            proba[proba_indices[cutoff_idx:]] = 0.0\n",
    "            # re-normalize probabilities to sum to 1\n",
    "            proba /= proba.sum()\n",
    "\n",
    "        proba_indices = torch.from_numpy(proba_indices)\n",
    "\n",
    "        return proba, proba_indices\n",
    "\n",
    "    def generate(\n",
    "        self,\n",
    "        text: str,\n",
    "        tokenizer: Tokenizer,\n",
    "        sentence_length_probas: Dict[int, float],\n",
    "        max_tokens: int = 512,\n",
    "        temperature: float = 1.0,\n",
    "        decoding_method: str = \"greedy\",\n",
    "        top_k: Optional[int] = None,\n",
    "        top_p: Optional[float] = None,\n",
    "        max_generation_sentences: int = 10,\n",
    "        beam_width: int = 2,\n",
    "    ) -> List[Dict[str, Any]]:\n",
    "        assert decoding_method in [\n",
    "            \"greedy\",\n",
    "            \"beam_search\",\n",
    "        ], \"choose either greedy or beam_search decoding method\"\n",
    "\n",
    "        sequence = [\"<s>\"]\n",
    "        sequence.extend(self.word_tokenizer.tokenize(text))\n",
    "\n",
    "        max_generation_size = max_tokens - len(sequence)\n",
    "\n",
    "        assert (\n",
    "            max_generation_size >= 0\n",
    "        ), \"To generate new tokens you must increase `max tokens`\"\n",
    "\n",
    "        if decoding_method == \"greedy\":\n",
    "            result = self.greedy(\n",
    "                sequence=sequence,\n",
    "                temperature=temperature,\n",
    "                tokenizer=tokenizer,\n",
    "                max_generation_size=max_generation_size,\n",
    "                sentence_length_probas=sentence_length_probas,\n",
    "                top_p=top_p,\n",
    "                top_k=top_k,\n",
    "            )\n",
    "        else:\n",
    "            result = self.beam_search(\n",
    "                sequence=sequence,\n",
    "                temperature=temperature,\n",
    "                tokenizer=tokenizer,\n",
    "                max_generation_size=max_generation_size,\n",
    "                sentence_length_probas=sentence_length_probas,\n",
    "                top_p=top_p,\n",
    "                top_k=top_k,\n",
    "                max_generate_sentences=max_generation_sentences,\n",
    "                beam_width=beam_width,\n",
    "            )\n",
    "        return result"
   ]
  },
  {
   "cell_type": "code",
   "execution_count": 165,
   "metadata": {},
   "outputs": [
    {
     "name": "stdout",
     "output_type": "stream",
     "text": [
      "GPU is being used.\n"
     ]
    }
   ],
   "source": [
    "# set device\n",
    "if torch.cuda.is_available():\n",
    "    device = torch.device(\"cuda\")\n",
    "    print(\"GPU is being used.\")\n",
    "else:\n",
    "    device = torch.device(\"cpu\")\n",
    "    print(\"CPU is being used.\")"
   ]
  },
  {
   "cell_type": "code",
   "execution_count": 166,
   "metadata": {},
   "outputs": [],
   "source": [
    "model = Model(\n",
    "    embed_dim=EMBEDDING_DIM,\n",
    "    embeddings=embeddings,\n",
    "    hidden_size=512,\n",
    "    num_layers=2,\n",
    "    dropout=0.5,\n",
    "    device=device,\n",
    ")"
   ]
  },
  {
   "cell_type": "code",
   "execution_count": 167,
   "metadata": {},
   "outputs": [],
   "source": [
    "BS = 256\n",
    "tok = Tokenizer(vocabulary=vocab, special_tokens=SPECIAL_TOKENS)\n",
    "\n",
    "sequence_len = 100\n",
    "input_sequences, target_sequences = create_sequences(\n",
    "    words=words, sequence_len=sequence_len\n",
    ")\n",
    "input_sequences = torch.concatenate([tok.encode(s) for s in input_sequences], dim=0)\n",
    "target_sequences = torch.concatenate([tok.encode(s) for s in target_sequences], dim=0)"
   ]
  },
  {
   "cell_type": "code",
   "execution_count": 168,
   "metadata": {},
   "outputs": [],
   "source": [
    "dataset = GutenBergDataset(\n",
    "    vocab_size=len(vocab),\n",
    "    input_sequences=input_sequences,\n",
    "    target_sequences=target_sequences,\n",
    ")\n",
    "dataloader = DataLoader(dataset=dataset, batch_size=BS, shuffle=True, num_workers=6)"
   ]
  },
  {
   "cell_type": "code",
   "execution_count": 169,
   "metadata": {},
   "outputs": [],
   "source": [
    "loss_fn = nn.CrossEntropyLoss()\n",
    "optimizer = torch.optim.Adam(model.parameters(), lr=1e-3)\n",
    "\n",
    "\n",
    "def train(\n",
    "    num_epochs: int,\n",
    "    save_model_dir: Union[Path, str],\n",
    "    history: Dict[str, Any],\n",
    "    early_stopping: bool = True,\n",
    "    patience: int = 3,\n",
    ") -> Dict[str, List[float]]:\n",
    "    model.train()\n",
    "\n",
    "    UPDATE_INTERVAL = 8\n",
    "    best_epoch_idx = 0\n",
    "    p = 0\n",
    "\n",
    "    save_model_dir = Path(save_model_dir)\n",
    "    if not save_model_dir.exists():\n",
    "        save_model_dir.mkdir()\n",
    "\n",
    "    if \"loss\" not in history:\n",
    "        history[\"loss\"] = []\n",
    "\n",
    "    for epoch in range(num_epochs):\n",
    "        with tqdm(total=len(dataloader), unit=\"batch\", desc=f\"Epoch {epoch+1}\") as pbar:\n",
    "            N = 0\n",
    "            running_loss = 0.0\n",
    "\n",
    "            for idx, (input_sequence, target_sequence) in enumerate(dataloader):\n",
    "                input_sequence, target_sequence = (\n",
    "                    input_sequence.cuda(),\n",
    "                    target_sequence.cuda(),\n",
    "                )\n",
    "\n",
    "                optimizer.zero_grad()\n",
    "\n",
    "                pred_sequence = model(input_sequence)\n",
    "\n",
    "                loss = loss_fn(\n",
    "                    pred_sequence.contiguous().view(-1, embeddings.size(0)),\n",
    "                    target_sequence.contiguous().view(-1, embeddings.size(0)),\n",
    "                )\n",
    "\n",
    "                running_loss += loss.cpu().item() * len(target_sequence)\n",
    "                loss.backward()\n",
    "\n",
    "                nn.utils.clip_grad_norm_(model.parameters(), max_norm=1.0)\n",
    "\n",
    "                optimizer.step()\n",
    "\n",
    "                N += len(target_sequence)\n",
    "\n",
    "                if idx % UPDATE_INTERVAL == 0 or idx == len(dataloader) - 1:\n",
    "                    pbar.update(min(UPDATE_INTERVAL, len(dataloader) - pbar.n))\n",
    "                    pbar.set_postfix(loss=loss.cpu().item())\n",
    "\n",
    "            history[\"loss\"].append(running_loss / N)\n",
    "            loss = history[\"loss\"][-1]\n",
    "            pbar.set_postfix(loss=loss)\n",
    "\n",
    "            if early_stopping:\n",
    "                if p == patience:\n",
    "                    break\n",
    "\n",
    "                if loss < history[\"loss\"][best_epoch_idx]:\n",
    "                    p = 0\n",
    "                    best_epoch_idx = epoch\n",
    "                    torch.save(\n",
    "                        model.state_dict(),\n",
    "                        save_model_dir.joinpath(\n",
    "                            f\"epoch_{best_epoch_idx}_val_loss_{loss}.pth\"\n",
    "                        ),\n",
    "                    )\n",
    "                else:\n",
    "                    p += 1\n",
    "\n",
    "    return history"
   ]
  },
  {
   "cell_type": "code",
   "execution_count": 170,
   "metadata": {},
   "outputs": [],
   "source": [
    "history = dict()"
   ]
  },
  {
   "cell_type": "code",
   "execution_count": 171,
   "metadata": {},
   "outputs": [
    {
     "name": "stderr",
     "output_type": "stream",
     "text": [
      "Epoch 1: 100%|██████████| 413/413 [01:39<00:00,  4.14batch/s, loss=4.24]\n",
      "Epoch 2: 100%|██████████| 413/413 [01:40<00:00,  4.13batch/s, loss=3.46]\n",
      "Epoch 3: 100%|██████████| 413/413 [01:39<00:00,  4.14batch/s, loss=3.36]\n",
      "Epoch 4: 100%|██████████| 413/413 [01:39<00:00,  4.15batch/s, loss=3.33]\n",
      "Epoch 5: 100%|██████████| 413/413 [01:39<00:00,  4.15batch/s, loss=3.32]\n",
      "Epoch 6: 100%|██████████| 413/413 [01:39<00:00,  4.15batch/s, loss=3.32]\n",
      "Epoch 7: 100%|██████████| 413/413 [01:39<00:00,  4.14batch/s, loss=3.31]\n",
      "Epoch 8: 100%|██████████| 413/413 [01:39<00:00,  4.13batch/s, loss=3.31]\n",
      "Epoch 9: 100%|██████████| 413/413 [01:40<00:00,  4.11batch/s, loss=3.31]\n",
      "Epoch 10: 100%|██████████| 413/413 [01:40<00:00,  4.13batch/s, loss=3.3] \n"
     ]
    }
   ],
   "source": [
    "history = train(num_epochs=10,\n",
    "                history=history,\n",
    "                early_stopping=True,\n",
    "                save_model_dir=\"saved_models_2_100_words\",\n",
    "                patience=3)"
   ]
  },
  {
   "cell_type": "code",
   "execution_count": 99,
   "metadata": {},
   "outputs": [],
   "source": [
    "# unfreeze embedding weight\n",
    "model.embed.weight.requires_grad = True"
   ]
  },
  {
   "cell_type": "code",
   "execution_count": 100,
   "metadata": {},
   "outputs": [
    {
     "name": "stderr",
     "output_type": "stream",
     "text": [
      "Epoch 1: 100%|██████████| 413/413 [00:53<00:00,  7.79batch/s, loss=3.32]\n",
      "Epoch 2: 100%|██████████| 413/413 [00:52<00:00,  7.83batch/s, loss=3.31]\n",
      "Epoch 3: 100%|██████████| 413/413 [00:52<00:00,  7.81batch/s, loss=3.31]\n",
      "Epoch 4: 100%|██████████| 413/413 [00:52<00:00,  7.79batch/s, loss=3.31]\n",
      "Epoch 5: 100%|██████████| 413/413 [00:53<00:00,  7.79batch/s, loss=3.31]\n",
      "Epoch 6: 100%|██████████| 413/413 [00:52<00:00,  7.80batch/s, loss=3.31]\n",
      "Epoch 7: 100%|██████████| 413/413 [00:53<00:00,  7.79batch/s, loss=3.31]\n",
      "Epoch 8: 100%|██████████| 413/413 [00:52<00:00,  7.81batch/s, loss=3.3] \n",
      "Epoch 9: 100%|██████████| 413/413 [00:53<00:00,  7.77batch/s, loss=3.3] \n",
      "Epoch 10: 100%|██████████| 413/413 [00:53<00:00,  7.79batch/s, loss=3.3] \n"
     ]
    }
   ],
   "source": [
    "history = train(num_epochs=10,\n",
    "                history=history,\n",
    "                early_stopping=True,\n",
    "                save_model_dir=\"saved_models_2_100_words\",\n",
    "                patience=3)"
   ]
  },
  {
   "cell_type": "code",
   "execution_count": 172,
   "metadata": {},
   "outputs": [
    {
     "data": {
      "text/plain": [
       "Text(0, 0.5, 'Loss (Cross Entropy)')"
      ]
     },
     "execution_count": 172,
     "metadata": {},
     "output_type": "execute_result"
    },
    {
     "data": {
      "image/png": "[encoded data removed]",
      "text/plain": [
       "<Figure size 640x480 with 1 Axes>"
      ]
     },
     "metadata": {
      "image/png": {
       "height": 458,
       "width": 567
      }
     },
     "output_type": "display_data"
    }
   ],
   "source": [
    "from matplotlib.ticker import MaxNLocator\n",
    "\n",
    "fig = plt.figure()\n",
    "ax = fig.add_subplot(111)\n",
    "\n",
    "ax.plot(history[\"loss\"])\n",
    "ax.xaxis.set_major_locator(MaxNLocator(integer=True))\n",
    "ax.set_title(\"Training Loss\", fontsize=16)\n",
    "ax.set_xlabel(\"Epoch\")\n",
    "ax.set_ylabel(\"Loss (Cross Entropy)\")"
   ]
  },
  {
   "cell_type": "code",
   "execution_count": 173,
   "metadata": {},
   "outputs": [
    {
     "data": {
      "text/plain": [
       "<All keys matched successfully>"
      ]
     },
     "execution_count": 173,
     "metadata": {},
     "output_type": "execute_result"
    }
   ],
   "source": [
    "model = Model(\n",
    "    embed_dim=EMBEDDING_DIM,\n",
    "    embeddings=embeddings,\n",
    "    hidden_size=512,\n",
    "    num_layers=2,\n",
    "    dropout=0.5,\n",
    "    device=device,\n",
    ")\n",
    "\n",
    "model.load_state_dict(\n",
    "    torch.load(\"saved_models_2_100_words/epoch_9_val_loss_3.3042992417253254.pth\")\n",
    ")"
   ]
  },
  {
   "cell_type": "code",
   "execution_count": 178,
   "metadata": {},
   "outputs": [
    {
     "data": {
      "text/plain": [
       "[{'generation': ['Sir',\n",
       "   'Walter',\n",
       "   'Elliot',\n",
       "   ',',\n",
       "   'of',\n",
       "   'Kellynch',\n",
       "   'Hall',\n",
       "   'was',\n",
       "   'evidently',\n",
       "   'delighted',\n",
       "   ',',\n",
       "   'was',\n",
       "   ',',\n",
       "   'and',\n",
       "   'you',\n",
       "   'do',\n",
       "   'without',\n",
       "   'her',\n",
       "   'own',\n",
       "   'chamber',\n",
       "   'to',\n",
       "   'Bath',\n",
       "   'the',\n",
       "   'possibility',\n",
       "   'of',\n",
       "   'her',\n",
       "   'family',\n",
       "   '?'],\n",
       "  'perplexity': 13.564376134099195,\n",
       "  'sentence_length_proba': 0.0005704274131116816,\n",
       "  'goodness': 0.007737491988648034}]"
      ]
     },
     "execution_count": 178,
     "metadata": {},
     "output_type": "execute_result"
    }
   ],
   "source": [
    "model.generate(\n",
    "    text=\"Sir Walter Elliot, of Kellynch Hall was\",\n",
    "    tokenizer=tok,\n",
    "    sentence_length_probas=sentence_length_probas,\n",
    "    max_tokens=32,\n",
    "    temperature=1.6,\n",
    "    decoding_method=\"greedy\",\n",
    "    top_k=None,\n",
    "    top_p=0.9,\n",
    "    max_generation_sentences=10,\n",
    "    beam_width=2,\n",
    ")"
   ]
  },
  {
   "cell_type": "code",
   "execution_count": 180,
   "metadata": {},
   "outputs": [
    {
     "data": {
      "text/plain": [
       "[{'generation': ['Sir',\n",
       "   'Walter',\n",
       "   'Elliot',\n",
       "   ',',\n",
       "   'of',\n",
       "   'Kellynch',\n",
       "   'Hall',\n",
       "   'was',\n",
       "   'too',\n",
       "   'painful',\n",
       "   'import',\n",
       "   '.'],\n",
       "  'perplexity': 2.535503149069148,\n",
       "  'sentence_length_proba': 0.0013343926985291122,\n",
       "  'goodness': 0.003383356889215443},\n",
       " {'generation': ['Sir',\n",
       "   'Walter',\n",
       "   'Elliot',\n",
       "   ',',\n",
       "   'of',\n",
       "   'Kellynch',\n",
       "   'Hall',\n",
       "   'was',\n",
       "   'too',\n",
       "   'painful',\n",
       "   'import',\n",
       "   '.'],\n",
       "  'perplexity': 2.535503149069148,\n",
       "  'sentence_length_proba': 0.0013343926985291122,\n",
       "  'goodness': 0.003383356889215443},\n",
       " {'generation': ['Sir',\n",
       "   'Walter',\n",
       "   'Elliot',\n",
       "   ',',\n",
       "   'of',\n",
       "   'Kellynch',\n",
       "   'Hall',\n",
       "   'was',\n",
       "   'too',\n",
       "   'painful',\n",
       "   'import',\n",
       "   '.'],\n",
       "  'perplexity': 2.535503149069148,\n",
       "  'sentence_length_proba': 0.0013343926985291122,\n",
       "  'goodness': 0.003383356889215443},\n",
       " {'generation': ['Sir',\n",
       "   'Walter',\n",
       "   'Elliot',\n",
       "   ',',\n",
       "   'of',\n",
       "   'Kellynch',\n",
       "   'Hall',\n",
       "   'was',\n",
       "   'too',\n",
       "   'painful',\n",
       "   'import',\n",
       "   '.'],\n",
       "  'perplexity': 2.535503149069148,\n",
       "  'sentence_length_proba': 0.0013343926985291122,\n",
       "  'goodness': 0.003383356889215443},\n",
       " {'generation': ['Sir',\n",
       "   'Walter',\n",
       "   'Elliot',\n",
       "   ',',\n",
       "   'of',\n",
       "   'Kellynch',\n",
       "   'Hall',\n",
       "   'was',\n",
       "   'a',\n",
       "   'gnawing',\n",
       "   'solicitude',\n",
       "   'in',\n",
       "   'the',\n",
       "   'evening',\n",
       "   '.'],\n",
       "  'perplexity': 3.7593476204285117,\n",
       "  'sentence_length_proba': 0.0011204824186122316,\n",
       "  'goodness': 0.004212282914141875},\n",
       " {'generation': ['Sir',\n",
       "   'Walter',\n",
       "   'Elliot',\n",
       "   ',',\n",
       "   'of',\n",
       "   'Kellynch',\n",
       "   'Hall',\n",
       "   'was',\n",
       "   'a',\n",
       "   'gnawing',\n",
       "   'solicitude',\n",
       "   'in',\n",
       "   'the',\n",
       "   'evening',\n",
       "   '.'],\n",
       "  'perplexity': 3.7593476204285117,\n",
       "  'sentence_length_proba': 0.0011204824186122316,\n",
       "  'goodness': 0.004212282914141875},\n",
       " {'generation': ['Sir',\n",
       "   'Walter',\n",
       "   'Elliot',\n",
       "   ',',\n",
       "   'of',\n",
       "   'Kellynch',\n",
       "   'Hall',\n",
       "   'was',\n",
       "   'a',\n",
       "   'gnawing',\n",
       "   'solicitude',\n",
       "   'for',\n",
       "   'them',\n",
       "   '!'],\n",
       "  'perplexity': 3.8216472812929907,\n",
       "  'sentence_length_proba': 0.0010899238071955344,\n",
       "  'goodness': 0.004165304354585322},\n",
       " {'generation': ['Sir',\n",
       "   'Walter',\n",
       "   'Elliot',\n",
       "   ',',\n",
       "   'of',\n",
       "   'Kellynch',\n",
       "   'Hall',\n",
       "   'was',\n",
       "   'a',\n",
       "   'gnawing',\n",
       "   'solicitude',\n",
       "   'for',\n",
       "   'them',\n",
       "   '!'],\n",
       "  'perplexity': 3.8216472812929907,\n",
       "  'sentence_length_proba': 0.0010899238071955344,\n",
       "  'goodness': 0.004165304354585322},\n",
       " {'generation': ['Sir',\n",
       "   'Walter',\n",
       "   'Elliot',\n",
       "   ',',\n",
       "   'of',\n",
       "   'Kellynch',\n",
       "   'Hall',\n",
       "   'was',\n",
       "   'too',\n",
       "   'painful',\n",
       "   'to',\n",
       "   'Mr',\n",
       "   'Elliot',\n",
       "   \"'\",\n",
       "   's',\n",
       "   'acquaintance',\n",
       "   '.'],\n",
       "  'perplexity': 4.1043864407100985,\n",
       "  'sentence_length_proba': 0.000865827323473088,\n",
       "  'goodness': 0.00355368992645926},\n",
       " {'generation': ['Sir',\n",
       "   'Walter',\n",
       "   'Elliot',\n",
       "   ',',\n",
       "   'of',\n",
       "   'Kellynch',\n",
       "   'Hall',\n",
       "   'was',\n",
       "   'too',\n",
       "   'painful',\n",
       "   'to',\n",
       "   'Mr',\n",
       "   'Elliot',\n",
       "   \"'\",\n",
       "   's',\n",
       "   'acquaintance',\n",
       "   '.'],\n",
       "  'perplexity': 4.1043864407100985,\n",
       "  'sentence_length_proba': 0.000865827323473088,\n",
       "  'goodness': 0.00355368992645926}]"
      ]
     },
     "execution_count": 180,
     "metadata": {},
     "output_type": "execute_result"
    }
   ],
   "source": [
    "model.generate(\n",
    "    text=\"Sir Walter Elliot, of Kellynch Hall was\",\n",
    "    tokenizer=tok,\n",
    "    sentence_length_probas=sentence_length_probas,\n",
    "    max_tokens=64,\n",
    "    temperature=1.3,\n",
    "    decoding_method=\"beam_search\",\n",
    "    top_k=None,\n",
    "    top_p=0.9,\n",
    "    max_generation_sentences=10,\n",
    "    beam_width=2,\n",
    ")"
   ]
  },
  {
   "cell_type": "markdown",
   "metadata": {
    "id": "R8vWaRuJ8Wxj"
   },
   "source": [
    "### Analysis\n",
    "\n",
    "Describe what experiments you did with various alternatives as described above, and cut and paste examples illustrating your results."
   ]
  },
  {
   "cell_type": "markdown",
   "metadata": {},
   "source": [
    "I tested different model hyperparameters such as `num_layers` (number of stacked LSTMs), played around with hidden unit sizes: 128, 256, and 512, finding 512 to work the best. Experimenting with different number of epochs lead me to find 20 epochs converged to a lower loss without drastically overfitting. In addition, I played around with calculating the gradients by only calculating the gradient of the last word and the gradients of the entire sequence of words. Calculating the gradients of the entire sequence seemed to yield more stable gradients during training, however, the performance of both were lackluster. I also played around with the GELU activation function and batch normalization in the fully connected layers for regularization. Another thing I tried was initially freezing the embedding weights and then in later stages of training unfreezing and updating the embedding weights. This slightly improves performance of the model. Additionally, I experimented with a sequence length of 50 and 100, finding that 100 performs slightly better (I hypothesize it provides a reasonable sequence length to learn). In the generation stage I played around with different parameters and found `max_tokens=64`, `temperature=1.3`, `top_k=None`, `top_p=0.9`, and `beam_width=2` for beam search to get reasonable performance. Interestingly, `top_p` was one of the more important parameters in generation along with `max_tokens`. They slightly improved the models performance, but I did clearly recognize the repetition problem in language models. Maybe in the future adding some sort of repetition penalty would help. In summary, the model seems to be developing some ability, however, it is nowhere near fluent or interpretable."
   ]
  },
  {
   "cell_type": "markdown",
   "metadata": {
    "id": "7pC8Nqf08Wxj"
   },
   "source": [
    "## Problem Three:  Part-of-Speech Tagging (40 pts)\n",
    "\n",
    "In this problem, we will experiment with three different approaches to the POS tagging problem, using\n",
    "the Brown Corpus as our data set.\n",
    "\n",
    "Before starting this problem, please review Lecture 13 and download the file <a href=\"https://www.cs.bu.edu/fac/snyder/cs505/Viterbi_Algorithm.ipynb\">Viterbi_Algorithm.ipynb</a> from the\n",
    "class web site.\n",
    "\n",
    "There are four parts to this problem:\n",
    "\n",
    "- Part A: You will establish a baseline accuracy for the task.\n",
    "- Part B: Using the implementation of the Viterbi algorithm for Hidden Markov Models you downloaded, you will determine how much better than the baseline you can do with this very standard method.\n",
    "- Part C: You will repeat the exercise of Part B, but using an LSTM implementation, exploring several options for the implementation of the LSTM layer.\n",
    "- Part D: You will evaluate your results, comparing the various methods in the context of the baseline method from Part A.\n",
    "- Optional: You may wish to try the same task with a transformer such as Bert.\n"
   ]
  },
  {
   "cell_type": "markdown",
   "metadata": {
    "id": "Hy9Lsskp8Wxk"
   },
   "source": [
    "Recall that the Brown Corpus has a list of all sentences tagged with parts of speech. The tags are\n",
    "a bit odd, and not generally used any more, so we will use a much simpler set of tags the `universal_tagset`.\n",
    "\n",
    "If you run the following cells, you will see that there are 57,340 sentences, tagged with 12 different tags.\n"
   ]
  },
  {
   "cell_type": "code",
   "execution_count": 187,
   "metadata": {
    "id": "IiZDRrRn8Wxk",
    "outputId": "b39bd719-c8c8-4504-f455-60180afc3fbb"
   },
   "outputs": [
    {
     "name": "stderr",
     "output_type": "stream",
     "text": [
      "[nltk_data] Downloading package brown to /home/alilavaee/nltk_data...\n",
      "[nltk_data]   Package brown is already up-to-date!\n",
      "[nltk_data] Downloading package universal_tagset to\n",
      "[nltk_data]     /home/alilavaee/nltk_data...\n",
      "[nltk_data]   Package universal_tagset is already up-to-date!\n"
     ]
    },
    {
     "name": "stdout",
     "output_type": "stream",
     "text": [
      "There are 57340 sentences tagged with universal POS tags in the Brown Corpus.\n",
      "\n",
      "Here is the first sentence with universal tags: [('The', 'DET'), ('Fulton', 'NOUN'), ('County', 'NOUN'), ('Grand', 'ADJ'), ('Jury', 'NOUN'), ('said', 'VERB'), ('Friday', 'NOUN'), ('an', 'DET'), ('investigation', 'NOUN'), ('of', 'ADP'), (\"Atlanta's\", 'NOUN'), ('recent', 'ADJ'), ('primary', 'NOUN'), ('election', 'NOUN'), ('produced', 'VERB'), ('``', '.'), ('no', 'DET'), ('evidence', 'NOUN'), (\"''\", '.'), ('that', 'ADP'), ('any', 'DET'), ('irregularities', 'NOUN'), ('took', 'VERB'), ('place', 'NOUN'), ('.', '.')]\n"
     ]
    }
   ],
   "source": [
    "import numpy as np\n",
    "from numba import njit\n",
    "from tqdm import trange\n",
    "import nltk\n",
    "import math\n",
    "from numpy.random import shuffle, seed, choice\n",
    "from tqdm import tqdm\n",
    "from sklearn.model_selection import train_test_split\n",
    "\n",
    "# The first time you will need to download the corpus:\n",
    "\n",
    "from nltk.corpus import brown\n",
    "\n",
    "nltk.download(\"brown\")\n",
    "nltk.download(\"universal_tagset\")\n",
    "\n",
    "tagged_sentences = brown.tagged_sents(tagset=\"universal\")\n",
    "\n",
    "print(\n",
    "    f\"There are {len(tagged_sentences)} sentences tagged with universal POS tags in the Brown Corpus.\"\n",
    ")\n",
    "print(\"\\nHere is the first sentence with universal tags:\", tagged_sentences[0])"
   ]
  },
  {
   "cell_type": "code",
   "execution_count": 188,
   "metadata": {
    "id": "lzVJ74A_8Wxk",
    "outputId": "802ce055-f4cf-4ecd-8849-8aa0de876b67"
   },
   "outputs": [
    {
     "name": "stdout",
     "output_type": "stream",
     "text": [
      "There are 12 universal tags in the Brown Corpus.\n",
      "['.', 'ADJ', 'ADP', 'ADV', 'CONJ', 'DET', 'NOUN', 'NUM', 'PRON', 'PRT', 'VERB', 'X']\n",
      "\n"
     ]
    }
   ],
   "source": [
    "# Uncomment to see the complete list of tags.\n",
    "\n",
    "all_tagged_words = np.concatenate(tagged_sentences)\n",
    "all_tags = sorted(set([pos for (w, pos) in all_tagged_words]))\n",
    "print(f\"There are {len(all_tags)} universal tags in the Brown Corpus.\")\n",
    "print(all_tags)\n",
    "print()"
   ]
  },
  {
   "cell_type": "markdown",
   "metadata": {
    "id": "qhDV9fCZ8Wxl"
   },
   "source": [
    "### Part A\n",
    "\n",
    "In this part, you will establish a baseline for the task, using the naive method suggested on slide 35 of Lecture 13:\n",
    "\n",
    "- Tag every word with its most frequent POS tag (for example, if 'recent' is most frequently tagged as 'ADJ', then assume that every time 'recent' appears in a sentence, it should be tagged with 'ADJ');\n",
    "- If a word has two or more most frequent tags, choose the one that appears first in the list of sorted tags above.\n",
    "\n",
    "Note that there will not be any \"unknown words.\"\n",
    "\n",
    "Use this method to determine your baseline accuracy (it may not be 92% as reported on slide 35!):\n",
    "\n",
    "- Build a dictionary mapping every word to its most frequent tag;\n",
    "- Go through the entire tagged corpus, and report the accuracy (percentage of correct tags) of this baseline method.\n",
    "\n",
    "Do not tokenize or lower-case the words. Use the words and tags exactly as they are in the tagged sentences."
   ]
  },
  {
   "cell_type": "code",
   "execution_count": 218,
   "metadata": {},
   "outputs": [
    {
     "name": "stderr",
     "output_type": "stream",
     "text": [
      "  0%|          | 0/1161192 [00:00<?, ?it/s]"
     ]
    },
    {
     "name": "stderr",
     "output_type": "stream",
     "text": [
      "100%|██████████| 1161192/1161192 [00:01<00:00, 698816.46it/s]\n"
     ]
    }
   ],
   "source": [
    "tagged_word_frequencies = dict()\n",
    "\n",
    "for w, pos in tqdm(all_tagged_words):\n",
    "    if w not in tagged_word_frequencies:\n",
    "        tagged_word_frequencies[w] = defaultdict(int)\n",
    "    tagged_word_frequencies[w][pos] += 1"
   ]
  },
  {
   "cell_type": "code",
   "execution_count": 219,
   "metadata": {},
   "outputs": [
    {
     "name": "stderr",
     "output_type": "stream",
     "text": [
      "100%|██████████| 56057/56057 [00:00<00:00, 1544597.00it/s]\n"
     ]
    }
   ],
   "source": [
    "tagged_word_predictions = defaultdict(int)\n",
    "for w in tqdm(tagged_word_frequencies.keys()):\n",
    "    tagged_word_predictions[w] = max(\n",
    "        tagged_word_frequencies[w], key=lambda pos: tagged_word_frequencies[w][pos]\n",
    "    )"
   ]
  },
  {
   "cell_type": "code",
   "execution_count": 220,
   "metadata": {},
   "outputs": [],
   "source": [
    "baseline_accuracy = sum(\n",
    "    [int(tagged_word_predictions[w] == y_test) for w, y_test in all_tagged_words]\n",
    ") / len(all_tagged_words)"
   ]
  },
  {
   "cell_type": "code",
   "execution_count": 221,
   "metadata": {},
   "outputs": [
    {
     "data": {
      "text/plain": [
       "0.9570777270253326"
      ]
     },
     "execution_count": 221,
     "metadata": {},
     "output_type": "execute_result"
    }
   ],
   "source": [
    "baseline_accuracy"
   ]
  },
  {
   "cell_type": "markdown",
   "metadata": {
    "id": "vvdJOskX8Wxl"
   },
   "source": [
    "### Part B:  \n",
    "\n",
    "Now, review the `Viterbi.ipynb` notebook and read through Section 8.4 in Jurafsky & Martin to understand the basic approach that is used in the \"Janet will back the bill\" example. In detail:\n",
    "\n",
    "- Cut and paste the code from the Viterby notebook below and run your experiments in this notebook.\n",
    "- You need to calculate from the Brown Corpus tagged sentences the probabilities for the various matrices used as input to the method:\n",
    "   - `start_p`: This is the probability that a sentence starts with a given POS (in Figure 8.12 in J & M, this is given as the first line, in the row for `<s>`; simply collect the statistics for the first word in each sentence; it will be of size 1 x 12.\n",
    "   - `trans_p`: This is the matrix of probabilities that one POS follows another in a sentence; build a 12 x 12 matrix of frequencies for whether the column POS follows the row POS in a sentence and then normalize each row so that it is a probability distribution (each row should add to 1.0)\n",
    "   - `emit_p`: This is a matrix of size 12 x N, where N is the number of unique words in the corpus, which for each POS (the row) gives the probability that this POS in the output sequence corresponds to a specific word (the column) in the input sequence; again, you should collect frequency statistics about the relationship between POS and words, and normalize so that every row sums to 1.0.\n",
    "   \n",
    "Then run the algorithm on all the sentences in the tagged corpus, and determine the accuracy of the Viterbi algorithm. Again, the accuracy is calculated on each word, not on sentences as a whole.\n",
    "\n",
    "Report your results as a raw accuracy score, and in the two ways that were suggested on slide 12 of Lecture 11: percentage above the baseline established in Part A, and Cohen's Kappa."
   ]
  },
  {
   "cell_type": "code",
   "execution_count": 9,
   "metadata": {},
   "outputs": [],
   "source": [
    "@njit\n",
    "def viterbi(\n",
    "    obs_sequence: np.ndarray,\n",
    "    num_states: int,\n",
    "    start_p: np.ndarray,\n",
    "    trans_p: np.ndarray,\n",
    "    emit_p: np.ndarray,\n",
    "):\n",
    "    T = len(obs_sequence)\n",
    "    V = np.zeros((T, num_states))\n",
    "    path = np.zeros((T, num_states), dtype=np.int32)\n",
    "\n",
    "    # Initialize base cases\n",
    "    V[0, :] = start_p + emit_p[:, obs_sequence[0]]\n",
    "\n",
    "    # Run Viterbi for t > 0\n",
    "    for t in range(1, T):\n",
    "        for st in range(num_states):\n",
    "            prob = V[t - 1] + trans_p[:, st]\n",
    "            best_prev_state = np.argmax(prob)\n",
    "            V[t, st] = prob[best_prev_state] + emit_p[st, obs_sequence[t]]\n",
    "            path[t, st] = best_prev_state\n",
    "\n",
    "    # The final probability and the path\n",
    "    opt = []\n",
    "    max_prob = np.max(V[-1, :])\n",
    "    previous = np.argmax(V[-1, :])\n",
    "\n",
    "    # Follow the path back to the first observation\n",
    "    for t in range(T - 1, -1, -1):\n",
    "        opt.insert(0, previous)\n",
    "        previous = path[t, previous]\n",
    "\n",
    "    return opt, max_prob"
   ]
  },
  {
   "cell_type": "code",
   "execution_count": 10,
   "metadata": {},
   "outputs": [],
   "source": [
    "pos_mapping = dict(zip(all_tags, range(len(all_tags))))\n",
    "num_states = 12\n",
    "start_p = np.zeros(shape=(1, num_states))\n",
    "trans_p = np.zeros(shape=(num_states, num_states))"
   ]
  },
  {
   "cell_type": "code",
   "execution_count": 11,
   "metadata": {},
   "outputs": [],
   "source": [
    "for sent in tagged_sentences:\n",
    "    first_word = sent[0]\n",
    "    word, pos = first_word\n",
    "    start_p[0][pos_mapping[pos]] += 1\n",
    "    for a in range(len(sent) - 1):\n",
    "        b = a + 1\n",
    "        _, pos_i = sent[a]\n",
    "        _, pos_j = sent[b]\n",
    "        i = pos_mapping[pos_i]\n",
    "        j = pos_mapping[pos_j]\n",
    "        trans_p[i][j] += 1\n",
    "\n",
    "start_p = np.log(start_p / start_p.sum(axis=1, keepdims=True))\n",
    "trans_p = np.log(trans_p / trans_p.sum(axis=1, keepdims=True))"
   ]
  },
  {
   "cell_type": "code",
   "execution_count": 12,
   "metadata": {},
   "outputs": [],
   "source": [
    "N = len(tagged_word_frequencies)\n",
    "emit_p = np.zeros(shape=(num_states, N))\n",
    "all_words = list(set([w for (w, _) in all_tagged_words]))\n",
    "word_mapping = dict(zip(all_words, range(len(all_words))))"
   ]
  },
  {
   "cell_type": "code",
   "execution_count": 13,
   "metadata": {},
   "outputs": [
    {
     "name": "stderr",
     "output_type": "stream",
     "text": [
      "/tmp/ipykernel_115188/1933126962.py:7: RuntimeWarning: divide by zero encountered in log\n",
      "  emit_p = np.log(emit_p / emit_p.sum(axis=1, keepdims=True))\n"
     ]
    }
   ],
   "source": [
    "for word, pos_freqs in tagged_word_frequencies.items():\n",
    "    for pos, freq in pos_freqs.items():\n",
    "        i = pos_mapping[pos]\n",
    "        j = word_mapping[word]\n",
    "        emit_p[i][j] = freq\n",
    "\n",
    "emit_p = np.log(emit_p / emit_p.sum(axis=1, keepdims=True))"
   ]
  },
  {
   "cell_type": "code",
   "execution_count": 14,
   "metadata": {},
   "outputs": [],
   "source": [
    "obs_sequences = []\n",
    "y_test = []\n",
    "for sent in tagged_sentences:\n",
    "    obs_sequence = []\n",
    "    pos_sequence = []\n",
    "    for word, pos in sent:\n",
    "        obs_sequence.append(word_mapping[word])\n",
    "        pos_sequence.append(pos_mapping[pos])\n",
    "    obs_sequences.append(obs_sequence)\n",
    "    y_test.append(pos_sequence)"
   ]
  },
  {
   "cell_type": "code",
   "execution_count": 15,
   "metadata": {},
   "outputs": [
    {
     "name": "stderr",
     "output_type": "stream",
     "text": [
      "100%|██████████| 57340/57340 [00:02<00:00, 25501.42it/s]\n"
     ]
    }
   ],
   "source": [
    "num_correct = 0\n",
    "total = 0\n",
    "for idx in trange(len(y_test)):\n",
    "    y_pred, _ = viterbi(\n",
    "        np.array(obs_sequences[idx]), num_states, start_p, trans_p, emit_p\n",
    "    )\n",
    "    num_correct += (np.asarray(y_test[idx]) == y_pred).sum()\n",
    "    total += len(y_pred)\n",
    "\n",
    "viterbi_accuracy = num_correct / total"
   ]
  },
  {
   "cell_type": "code",
   "execution_count": 16,
   "metadata": {},
   "outputs": [],
   "source": [
    "def cohens_kappa(accuracy: float, baseline_accuracy: float) -> float:\n",
    "    numerator = accuracy - baseline_accuracy\n",
    "    denominator = 1 - baseline_accuracy\n",
    "    k = numerator / denominator\n",
    "    return k"
   ]
  },
  {
   "cell_type": "code",
   "execution_count": 17,
   "metadata": {},
   "outputs": [
    {
     "data": {
      "text/html": [
       "<div>\n",
       "<style scoped>\n",
       "    .dataframe tbody tr th:only-of-type {\n",
       "        vertical-align: middle;\n",
       "    }\n",
       "\n",
       "    .dataframe tbody tr th {\n",
       "        vertical-align: top;\n",
       "    }\n",
       "\n",
       "    .dataframe thead th {\n",
       "        text-align: right;\n",
       "    }\n",
       "</style>\n",
       "<table border=\"1\" class=\"dataframe\">\n",
       "  <thead>\n",
       "    <tr style=\"text-align: right;\">\n",
       "      <th></th>\n",
       "      <th>method</th>\n",
       "      <th>accuracy</th>\n",
       "      <th>pct_above_baseline</th>\n",
       "      <th>cohens_kappa</th>\n",
       "    </tr>\n",
       "  </thead>\n",
       "  <tbody>\n",
       "    <tr>\n",
       "      <th>0</th>\n",
       "      <td>baseline</td>\n",
       "      <td>0.957078</td>\n",
       "      <td>0.000</td>\n",
       "      <td>0.000</td>\n",
       "    </tr>\n",
       "    <tr>\n",
       "      <th>1</th>\n",
       "      <td>viterbi</td>\n",
       "      <td>0.975385</td>\n",
       "      <td>0.018</td>\n",
       "      <td>0.427</td>\n",
       "    </tr>\n",
       "  </tbody>\n",
       "</table>\n",
       "</div>"
      ],
      "text/plain": [
       "     method  accuracy  pct_above_baseline  cohens_kappa\n",
       "0  baseline  0.957078               0.000         0.000\n",
       "1   viterbi  0.975385               0.018         0.427"
      ]
     },
     "execution_count": 17,
     "metadata": {},
     "output_type": "execute_result"
    }
   ],
   "source": [
    "results = {\"baseline\": baseline_accuracy, \"viterbi\": viterbi_accuracy}\n",
    "results = {\n",
    "    \"method\": [\"baseline\", \"viterbi\"],\n",
    "    \"accuracy\": [baseline_accuracy, viterbi_accuracy],\n",
    "    \"pct_above_baseline\": np.round([0.0, viterbi_accuracy - baseline_accuracy], 3),\n",
    "    \"cohens_kappa\": np.round(\n",
    "        [0.0, cohens_kappa(viterbi_accuracy, baseline_accuracy)], 3\n",
    "    ),\n",
    "}\n",
    "results_df = pd.DataFrame(results)\n",
    "results_df"
   ]
  },
  {
   "cell_type": "markdown",
   "metadata": {
    "id": "bptmi4vw8Wxm"
   },
   "source": [
    "### Part C:  \n",
    "\n",
    "Next, you will need to develop an LSTM model to solve this problem. You may find it useful to\n",
    "refer to the following, which presents an approach in Keras.\n",
    "\n",
    "https://www.kaggle.com/code/tanyadayanand/pos-tagging-using-rnn/notebook\n",
    "\n",
    "\n",
    "You must do the following for this part:\n",
    "\n",
    "- Develop your code in Pytorch (of course!);\n",
    "- Use pretrained GloVe embeddings of dimension 200 and update them with the brown sentences; if you run into problems with RAM, you may use a smaller embedding dimension;\n",
    "- Truncate all sentences to a maximum of length 100 tokens, and pad shorter sentences (as in the reference above);\n",
    "- Use an LSTM model and try several different choices for the parameters to the layer:\n",
    "  - `hidden_size`:  Try several different widths for the layer\n",
    "  - `bidirectional`: Try unidirectional (False) and bidirectional (True)\n",
    "  - `num_layers`: Try 1 layer and 2 layers\n",
    "  - `dropout`: In the case of 2 layers, try several different dropouts, including 0.\n",
    "- Use early stopping with `patience = 50`;  \n",
    "You do not have to try every possible combination of these parameter choices; a good strategy is to\n",
    "try them separately, and then try a couple of combinations of the best choices of each.\n",
    "\n",
    "It is your choice about the other hyperparameters.  \n",
    "\n",
    "Provide a brief discussion of what you discovered, your best loss and accuracy measures for\n",
    "validation, and three versions of your testing accuracy, as in Part B.  "
   ]
  },
  {
   "cell_type": "code",
   "execution_count": 75,
   "metadata": {},
   "outputs": [],
   "source": [
    "input_sequences, target_sequences = create_sequences(tagged_sentences=tagged_sentences)"
   ]
  },
  {
   "cell_type": "code",
   "execution_count": 76,
   "metadata": {},
   "outputs": [],
   "source": [
    "SPECIAL_TOKENS = [\"[PAD]\"]\n",
    "EMBEDDING_DIM = 200\n",
    "BASE_EMBEDDING_SIZE = 400000\n",
    "PADDING_IDX = 0"
   ]
  },
  {
   "cell_type": "code",
   "execution_count": 77,
   "metadata": {},
   "outputs": [
    {
     "name": "stderr",
     "output_type": "stream",
     "text": [
      "100%|██████████| 400000/400000 [00:03<00:00, 105584.88it/s]\n"
     ]
    }
   ],
   "source": [
    "vocab = []\n",
    "embeddings = []\n",
    "unique_words = set(all_words)\n",
    "\n",
    "for t in SPECIAL_TOKENS:\n",
    "    vocab.append(t)\n",
    "    embeddings.append(\n",
    "        torch.normal(mean=0, std=1, size=(EMBEDDING_DIM,), dtype=torch.float32)\n",
    "    )\n",
    "\n",
    "with open(\"/data/glove_6B/glove.6B.200d.txt\") as f:\n",
    "    for line in tqdm(f.readlines(), total=BASE_EMBEDDING_SIZE):\n",
    "        content = line.split()\n",
    "        word, vector = content[0], content[1:]\n",
    "        if word in unique_words:\n",
    "            vocab.append(word)\n",
    "            vector = np.array(vector, dtype=np.float32)\n",
    "            embeddings.append(torch.from_numpy(vector))"
   ]
  },
  {
   "cell_type": "code",
   "execution_count": 78,
   "metadata": {},
   "outputs": [],
   "source": [
    "vocab_set = set(vocab)"
   ]
  },
  {
   "cell_type": "code",
   "execution_count": 79,
   "metadata": {},
   "outputs": [
    {
     "name": "stderr",
     "output_type": "stream",
     "text": [
      "100%|██████████| 56057/56057 [00:00<00:00, 592585.38it/s]\n"
     ]
    }
   ],
   "source": [
    "for word in tqdm(unique_words):\n",
    "    if word not in vocab_set:\n",
    "        vocab.append(word)\n",
    "        embeddings.append(\n",
    "            torch.normal(mean=0, std=1, size=(EMBEDDING_DIM,), dtype=torch.float32)\n",
    "        )"
   ]
  },
  {
   "cell_type": "code",
   "execution_count": 80,
   "metadata": {},
   "outputs": [],
   "source": [
    "embeddings = torch.stack(embeddings, dim=0)"
   ]
  },
  {
   "cell_type": "code",
   "execution_count": 81,
   "metadata": {},
   "outputs": [
    {
     "data": {
      "text/plain": [
       "torch.Size([56058, 200])"
      ]
     },
     "execution_count": 81,
     "metadata": {},
     "output_type": "execute_result"
    }
   ],
   "source": [
    "embeddings.size()"
   ]
  },
  {
   "cell_type": "code",
   "execution_count": 122,
   "metadata": {},
   "outputs": [],
   "source": [
    "class Tokenizer:\n",
    "    def __init__(\n",
    "        self,\n",
    "        vocabulary: List[str],\n",
    "        special_tokens: List[str],\n",
    "        dtype: torch.dtype = torch.int64,\n",
    "    ) -> None:\n",
    "        self.vocabulary = vocabulary\n",
    "        self.special_tokens = special_tokens\n",
    "        self.embedding_table = dict(zip(self.vocabulary, range(len(self.vocabulary))))\n",
    "        self.reverse_embedding_table = {\n",
    "            value: key for key, value in self.embedding_table.items()\n",
    "        }\n",
    "        self.embedding_dim = len(self.embedding_table)\n",
    "        self.dtype = dtype\n",
    "\n",
    "    def encode(self, sequence: List[str]) -> torch.Tensor:\n",
    "        sequence_ids = torch.tensor(\n",
    "            [[self.embedding_table[s] for s in sequence]], dtype=self.dtype\n",
    "        )\n",
    "        return sequence_ids\n",
    "\n",
    "    def decode(\n",
    "        self, sequence_ids: torch.Tensor, skip_special_tokens: bool = True\n",
    "    ) -> List[str]:\n",
    "        tokens = [self.reverse_embedding_table[s] for s in sequence_ids.numpy()]\n",
    "        if skip_special_tokens:\n",
    "            tokens = list(filter(lambda t: t not in set(self.special_tokens), tokens))\n",
    "        return tokens"
   ]
  },
  {
   "cell_type": "code",
   "execution_count": 123,
   "metadata": {},
   "outputs": [],
   "source": [
    "class NER_Dataset(Dataset):\n",
    "    def __init__(\n",
    "        self,\n",
    "        num_tags: int,\n",
    "        vocab_size: int,\n",
    "        X: List[torch.Tensor],\n",
    "        y: List[torch.Tensor],\n",
    "        one_hot_targets: bool = False,\n",
    "        dtype: torch.dtype = torch.float32,\n",
    "    ) -> None:\n",
    "        self.num_tags = num_tags\n",
    "        self.vocab_size = vocab_size\n",
    "        self.X = X\n",
    "        self.y = y\n",
    "        self.one_hot_targets = one_hot_targets\n",
    "        self.dtype = dtype\n",
    "        self._one_hot_matrix = torch.eye(self.num_tags, dtype=self.dtype)\n",
    "\n",
    "    def __len__(self) -> int:\n",
    "        return len(self.X)\n",
    "\n",
    "    def __getitem__(self, index: int) -> Tuple[torch.Tensor, torch.Tensor]:\n",
    "        X = self.X[index]\n",
    "        y = self.y[index]\n",
    "        if self.one_hot_targets:\n",
    "            y = self._one_hot_matrix[y]\n",
    "        return X, y"
   ]
  },
  {
   "cell_type": "code",
   "execution_count": 251,
   "metadata": {},
   "outputs": [],
   "source": [
    "def collate_fn(batch) -> Tuple[torch.Tensor, torch.Tensor, torch.Tensor, int]:\n",
    "    # Find the maximum sequence length in this batch\n",
    "    max_seq_len = max([b[0].size(1) for b in batch])\n",
    "    one_hot_targets = len(batch[0][1].size()) + 1 == 3\n",
    "\n",
    "    padded_sequences = []\n",
    "    padded_target_sequences = []\n",
    "    mask = torch.zeros((len(batch), max_seq_len), dtype=bool)\n",
    "    non_pad_idx_count = 0\n",
    "\n",
    "    for idx, (input_sequence, target_sequence) in enumerate(batch):\n",
    "        \n",
    "        seq_padding = ((0, max_seq_len - input_sequence.size(1), 0, 0)\n",
    "            if one_hot_targets else (0, max_seq_len - input_sequence.size(1)))\n",
    "        \n",
    "        mask[idx][:input_sequence.size(1)] = 1\n",
    "        non_pad_idx_count += input_sequence.size(1)\n",
    "        target_padding = ((0, 0, 0, max_seq_len - input_sequence.size(1))\n",
    "            if one_hot_targets else (0, max_seq_len - input_sequence.size(1)))\n",
    "        \n",
    "        padded_sequences.append(\n",
    "            F.pad(input_sequence, seq_padding)\n",
    "        )\n",
    "\n",
    "        # Pad each target to have the same length and stack all\n",
    "        padded_target_sequences.append(\n",
    "            F.pad(target_sequence, target_padding)\n",
    "        )\n",
    "\n",
    "    padded_sequences = torch.cat(padded_sequences, dim=0)\n",
    "    padded_target_sequences = torch.stack(padded_target_sequences, dim=0)\n",
    "\n",
    "    return padded_sequences, padded_target_sequences, mask, non_pad_idx_count"
   ]
  },
  {
   "cell_type": "code",
   "execution_count": 272,
   "metadata": {},
   "outputs": [],
   "source": [
    "class Model(nn.Module):\n",
    "    def __init__(\n",
    "        self,\n",
    "        num_tags: int,\n",
    "        embed_dim: int,\n",
    "        embeddings: torch.Tensor,\n",
    "        hidden_size: int,\n",
    "        D: int,\n",
    "        num_layers: int,\n",
    "        dropout: float,\n",
    "        device: torch.device,\n",
    "        freeze_embedding_weights: bool = True,\n",
    "        padding_idx: int = PADDING_IDX,\n",
    "    ) -> None:\n",
    "        super().__init__()\n",
    "        \n",
    "        assert D in [1, 2]\n",
    "\n",
    "        self.embed_dim = embed_dim\n",
    "        self.num_tags = num_tags\n",
    "        self.hidden_size = hidden_size\n",
    "        self.D = D\n",
    "        self.num_layers = num_layers\n",
    "        self.dropout = dropout\n",
    "        self.device = device\n",
    "        self.padding_idx = padding_idx\n",
    "\n",
    "        self.embed = nn.Embedding.from_pretrained(\n",
    "            embeddings=embeddings,\n",
    "            padding_idx=self.padding_idx,\n",
    "            freeze=freeze_embedding_weights,\n",
    "        )\n",
    "\n",
    "        self.lstm = nn.LSTM(\n",
    "            input_size=self.embed_dim,\n",
    "            hidden_size=self.hidden_size,\n",
    "            num_layers=self.num_layers,\n",
    "            bidirectional=self.D == 2,\n",
    "        )\n",
    "\n",
    "        self.fcn = nn.ModuleList(\n",
    "            [\n",
    "                nn.Linear(in_features=self.D * self.hidden_size, out_features=256),\n",
    "                nn.BatchNorm1d(num_features=256),\n",
    "                nn.GELU(),\n",
    "                nn.Linear(in_features=256, out_features=self.num_tags),\n",
    "            ]\n",
    "        )\n",
    "\n",
    "        self.to(self.device)\n",
    "\n",
    "    def forward(self, x: torch.Tensor) -> torch.Tensor:\n",
    "        sequence_len = x.size(1)\n",
    "        output = self.embed(x)\n",
    "        output, (h_n, c_n) = self.lstm(output)\n",
    "        output = output.contiguous().view(-1, self.D * self.hidden_size)\n",
    "        for layer in self.fcn:\n",
    "            output = layer(output)\n",
    "        output = output.view(-1, sequence_len, self.num_tags)\n",
    "        return output\n",
    "\n",
    "    def predict(self, input_sequences: torch.Tensor) -> torch.Tensor:\n",
    "        if self.training:\n",
    "            self.eval()\n",
    "            \n",
    "        with torch.no_grad():\n",
    "            proba = self.forward(input_sequences.to(self.device)).cpu()\n",
    "\n",
    "        proba = F.softmax(proba, dim=-1)\n",
    "\n",
    "        return proba"
   ]
  },
  {
   "cell_type": "code",
   "execution_count": 281,
   "metadata": {},
   "outputs": [
    {
     "name": "stdout",
     "output_type": "stream",
     "text": [
      "GPU is being used.\n"
     ]
    }
   ],
   "source": [
    "# set device\n",
    "if torch.cuda.is_available():\n",
    "    device = torch.device(\"cuda\")\n",
    "    print(\"GPU is being used.\")\n",
    "else:\n",
    "    device = torch.device(\"cpu\")\n",
    "    print(\"CPU is being used.\")"
   ]
  },
  {
   "cell_type": "code",
   "execution_count": 282,
   "metadata": {},
   "outputs": [],
   "source": [
    "def create_sequences(\n",
    "    tagged_sentences: List[List[Tuple[str, str]]]\n",
    ") -> Tuple[List[List[str]], List[List[str]]]:\n",
    "    input_sequences = []\n",
    "    target_sequences = []\n",
    "    for sent in tagged_sentences:\n",
    "        input_sequence = []\n",
    "        target_sequence = []\n",
    "        for word, pos in sent:\n",
    "            input_sequence.append(word)\n",
    "            target_sequence.append(pos)\n",
    "        input_sequences.append(input_sequence)\n",
    "        target_sequences.append(target_sequence)\n",
    "    return input_sequences, target_sequences"
   ]
  },
  {
   "cell_type": "code",
   "execution_count": 283,
   "metadata": {},
   "outputs": [
    {
     "name": "stderr",
     "output_type": "stream",
     "text": [
      "Exception ignored in: <function _MultiProcessingDataLoaderIter.__del__ at 0x7fdf077e1160>\n",
      "Traceback (most recent call last):\n",
      "  File \"/home/alilavaee/miniforge3/envs/pytorch/lib/python3.9/site-packages/torch/utils/data/dataloader.py\", line 1478, in __del__\n",
      "    self._shutdown_workers()\n",
      "  File \"/home/alilavaee/miniforge3/envs/pytorch/lib/python3.9/site-packages/torch/utils/data/dataloader.py\", line 1442, in _shutdown_workers\n",
      "    w.join(timeout=_utils.MP_STATUS_CHECK_INTERVAL)\n",
      "  File \"/home/alilavaee/miniforge3/envs/pytorch/lib/python3.9/multiprocessing/process.py\", line 149, in join\n",
      "    res = self._popen.wait(timeout)\n",
      "  File \"/home/alilavaee/miniforge3/envs/pytorch/lib/python3.9/multiprocessing/popen_fork.py\", line 40, in wait\n",
      "    if not wait([self.sentinel], timeout):\n",
      "  File \"/home/alilavaee/miniforge3/envs/pytorch/lib/python3.9/multiprocessing/connection.py\", line 931, in wait\n",
      "    ready = selector.select(timeout)\n",
      "  File \"/home/alilavaee/miniforge3/envs/pytorch/lib/python3.9/selectors.py\", line 416, in select\n",
      "    fd_event_list = self._selector.poll(timeout)\n",
      "KeyboardInterrupt: \n"
     ]
    }
   ],
   "source": [
    "X, y = create_sequences(tagged_sentences=tagged_sentences)\n",
    "\n",
    "tok = Tokenizer(vocabulary=vocab, special_tokens=SPECIAL_TOKENS)\n",
    "\n",
    "X = [tok.encode(sequence=input_sequence) for input_sequence in input_sequences]\n",
    "\n",
    "# +1 because we ignore PADDING_IDX and offset by 1\n",
    "y = [\n",
    "    torch.tensor([pos_mapping[pos] + 1 for pos in target_sequence], dtype=torch.int64)\n",
    "    for target_sequence in target_sequences\n",
    "]\n",
    "\n",
    "TEST_FRAC = 0.2\n",
    "X_train, X_test, y_train, y_test = train_test_split(X, y, test_size=TEST_FRAC)\n",
    "\n",
    "X_train, X_val, y_train, y_val = train_test_split(X_train, y_train, test_size=TEST_FRAC)"
   ]
  },
  {
   "cell_type": "code",
   "execution_count": null,
   "metadata": {},
   "outputs": [],
   "source": [
    "BS = 128\n",
    "# +1 since we ignore PADDING_IDX and need to add offset\n",
    "NUM_CLASSES = len(pos_mapping) + 1\n",
    "VOCAB_SIZE = len(vocab)\n",
    "ONE_HOT_TARGETS = False\n",
    "NUM_WORKERS = 6\n",
    "\n",
    "train_dataset = NER_Dataset(\n",
    "    num_tags=NUM_CLASSES,\n",
    "    vocab_size=VOCAB_SIZE,\n",
    "    X=X_train,\n",
    "    y=y_train,\n",
    "    one_hot_targets=ONE_HOT_TARGETS,\n",
    "    dtype=torch.float32 if ONE_HOT_TARGETS else torch.int64\n",
    ")\n",
    "\n",
    "val_dataset = NER_Dataset(\n",
    "    num_tags=NUM_CLASSES,\n",
    "    vocab_size=VOCAB_SIZE,\n",
    "    X=X_val,\n",
    "    y=y_val,\n",
    "    one_hot_targets=ONE_HOT_TARGETS,\n",
    "    dtype=torch.float32 if ONE_HOT_TARGETS else torch.int64\n",
    ")\n",
    "\n",
    "test_dataset = NER_Dataset(\n",
    "    num_tags=NUM_CLASSES,\n",
    "    vocab_size=VOCAB_SIZE,\n",
    "    X=X_test,\n",
    "    y=y_test,\n",
    "    one_hot_targets=ONE_HOT_TARGETS,\n",
    "    dtype=torch.float32 if ONE_HOT_TARGETS else torch.int64\n",
    ")\n",
    "\n",
    "train_dataloader = DataLoader(\n",
    "    dataset=train_dataset,\n",
    "    batch_size=BS,\n",
    "    shuffle=True,\n",
    "    num_workers=NUM_WORKERS,\n",
    "    collate_fn=collate_fn\n",
    ")\n",
    "\n",
    "val_dataloader = DataLoader(\n",
    "    dataset=val_dataset, batch_size=BS, num_workers=NUM_WORKERS, collate_fn=collate_fn\n",
    ")\n",
    "\n",
    "test_dataloader = DataLoader(\n",
    "    dataset=test_dataset, batch_size=BS, num_workers=NUM_WORKERS, collate_fn=collate_fn\n",
    ")"
   ]
  },
  {
   "cell_type": "code",
   "execution_count": null,
   "metadata": {},
   "outputs": [],
   "source": [
    "model = Model(\n",
    "    num_tags=NUM_CLASSES,\n",
    "    embed_dim=EMBEDDING_DIM,\n",
    "    embeddings=embeddings,\n",
    "    hidden_size=512,\n",
    "    D=2,\n",
    "    num_layers=4,\n",
    "    dropout=0.0,\n",
    "    freeze_embedding_weights=False,\n",
    "    device=device,\n",
    ")"
   ]
  },
  {
   "cell_type": "code",
   "execution_count": null,
   "metadata": {},
   "outputs": [],
   "source": [
    "loss_fn = nn.CrossEntropyLoss(ignore_index=PADDING_IDX)\n",
    "optimizer = torch.optim.Adam(model.parameters(), lr=1e-3)\n",
    "\n",
    "def train(\n",
    "    num_epochs: int,\n",
    "    save_model_dir: Union[Path, str],\n",
    "    history: Dict[str, Any],\n",
    "    early_stopping: bool = True,\n",
    "    patience: int = 3,\n",
    ") -> Dict[str, List[float]]:\n",
    "    model.train()\n",
    "  \n",
    "    UPDATE_INTERVAL = 8\n",
    "    best_epoch_idx = 0\n",
    "    p = 0\n",
    "\n",
    "    save_model_dir = Path(save_model_dir)\n",
    "    if not save_model_dir.exists():\n",
    "        save_model_dir.mkdir()\n",
    "\n",
    "    if \"loss\" not in history:\n",
    "        history[\"train_accuracy\"] = []\n",
    "        history[\"train_loss\"] = []\n",
    "        history[\"val_accuracy\"] = []\n",
    "        history[\"val_loss\"] = []\n",
    "\n",
    "    for epoch in range(num_epochs):\n",
    "\n",
    "      with tqdm(total=len(train_dataloader), unit=\"batch\",\n",
    "                desc=f\"Epoch {epoch+1}\") as pbar:\n",
    "\n",
    "        all_correct = 0\n",
    "        N = 0\n",
    "        running_loss = 0.0\n",
    "\n",
    "        for idx, (X, y, mask, non_pad_idx_count) in enumerate(train_dataloader):\n",
    "          X, y = X.cuda(), y.cuda()\n",
    "\n",
    "          optimizer.zero_grad()\n",
    "\n",
    "          logits = model(X)\n",
    "\n",
    "          loss = loss_fn(logits.contiguous().view(-1, NUM_CLASSES),\n",
    "                         y.contiguous().view((-1, NUM_CLASSES) if\n",
    "                                             ONE_HOT_TARGETS else -1))\n",
    "          \n",
    "          loss.backward()\n",
    "          \n",
    "          running_loss += (loss.cpu().item() * non_pad_idx_count)\n",
    "          \n",
    "          nn.utils.clip_grad_norm_(model.parameters(), max_norm=1.0)\n",
    "\n",
    "          optimizer.step()\n",
    "\n",
    "          proba = F.softmax(logits[mask], dim=-1)\n",
    "          y_pred = torch.argmax(proba, dim=-1)\n",
    "\n",
    "          num_correct = (y_pred == y[mask]).sum().cpu().item()\n",
    "          \n",
    "          train_accuracy = num_correct / non_pad_idx_count\n",
    "\n",
    "          all_correct += num_correct\n",
    "          N += non_pad_idx_count\n",
    "          \n",
    "          if idx % UPDATE_INTERVAL == 0 or idx == len(train_dataloader) - 1:\n",
    "            pbar.update(min(UPDATE_INTERVAL, len(train_dataloader) - pbar.n))\n",
    "            pbar.set_postfix(loss=loss.cpu().item(), train_accuracy=train_accuracy)\n",
    "        \n",
    "        train_loss = running_loss / N\n",
    "        train_accuracy = all_correct / N\n",
    "        \n",
    "        history[\"train_loss\"].append(train_loss)\n",
    "        history[\"train_accuracy\"].append(train_accuracy)\n",
    "        \n",
    "        pbar.set_postfix(train_loss=train_loss, train_accuracy=train_accuracy)\n",
    "\n",
    "        all_correct = 0\n",
    "        N = 0\n",
    "        running_loss = 0.0\n",
    "        with torch.no_grad():\n",
    "          for (X, y, mask, non_pad_idx_count) in val_dataloader:\n",
    "            X, y = X.cuda(), y.cuda()\n",
    "\n",
    "            logits = model(X)\n",
    "            \n",
    "            val_loss = loss_fn(logits.contiguous().view(-1, NUM_CLASSES),\n",
    "                         y.contiguous().view((-1, NUM_CLASSES) if\n",
    "                                             ONE_HOT_TARGETS else -1))\n",
    "            \n",
    "            running_loss += (val_loss.cpu().item() * non_pad_idx_count)\n",
    "            \n",
    "            proba = F.softmax(logits[mask], dim=-1)\n",
    "            y_pred = torch.argmax(proba, dim=-1)\n",
    "\n",
    "            num_correct = (y_pred == y[mask]).sum().cpu().item()\n",
    "\n",
    "            all_correct += num_correct\n",
    "            N += non_pad_idx_count\n",
    "\n",
    "        val_loss = running_loss / N\n",
    "        val_accuracy = all_correct / N\n",
    "        \n",
    "        history[\"val_accuracy\"].append(val_accuracy)\n",
    "        history[\"val_loss\"].append(val_loss)\n",
    "        \n",
    "        pbar.set_postfix(train_loss=train_loss,\n",
    "                        train_accuracy=train_accuracy,\n",
    "                        val_loss=val_loss,\n",
    "                        val_accuracy=val_accuracy)\n",
    "\n",
    "        if early_stopping:\n",
    "          if p == patience:\n",
    "            break\n",
    "\n",
    "          if val_accuracy > history[\"val_accuracy\"][best_epoch_idx]:\n",
    "            p = 0\n",
    "            best_epoch_idx = epoch\n",
    "            torch.save(model.state_dict(),\n",
    "                      save_model_dir.joinpath(\n",
    "                          f\"epoch_{best_epoch_idx}_val_acc_{val_accuracy}.pth\"))\n",
    "          else:\n",
    "            p += 1\n",
    "\n",
    "    return history"
   ]
  },
  {
   "cell_type": "code",
   "execution_count": null,
   "metadata": {},
   "outputs": [],
   "source": [
    "history = dict()"
   ]
  },
  {
   "cell_type": "code",
   "execution_count": null,
   "metadata": {},
   "outputs": [
    {
     "name": "stderr",
     "output_type": "stream",
     "text": [
      "Epoch 1:  47%|████▋     | 136/287 [00:32<00:36,  4.14batch/s, loss=0.353, train_accuracy=0.885]\n"
     ]
    },
    {
     "ename": "KeyboardInterrupt",
     "evalue": "",
     "output_type": "error",
     "traceback": [
      "\u001b[0;31m---------------------------------------------------------------------------\u001b[0m",
      "\u001b[0;31mKeyboardInterrupt\u001b[0m                         Traceback (most recent call last)",
      "\u001b[1;32m/home/alilavaee/Documents/projects/CS505-HW/HW05/HW05.ipynb Cell 106\u001b[0m line \u001b[0;36m1\n\u001b[0;32m----> <a href='vscode-notebook-cell://ssh-remote%2Bmlhacker/home/alilavaee/Documents/projects/CS505-HW/HW05/HW05.ipynb#Y211sdnNjb2RlLXJlbW90ZQ%3D%3D?line=0'>1</a>\u001b[0m history \u001b[39m=\u001b[39m train(num_epochs\u001b[39m=\u001b[39;49m\u001b[39m20\u001b[39;49m,\n\u001b[1;32m      <a href='vscode-notebook-cell://ssh-remote%2Bmlhacker/home/alilavaee/Documents/projects/CS505-HW/HW05/HW05.ipynb#Y211sdnNjb2RlLXJlbW90ZQ%3D%3D?line=1'>2</a>\u001b[0m                 history\u001b[39m=\u001b[39;49mhistory,\n\u001b[1;32m      <a href='vscode-notebook-cell://ssh-remote%2Bmlhacker/home/alilavaee/Documents/projects/CS505-HW/HW05/HW05.ipynb#Y211sdnNjb2RlLXJlbW90ZQ%3D%3D?line=2'>3</a>\u001b[0m                 early_stopping\u001b[39m=\u001b[39;49m\u001b[39mTrue\u001b[39;49;00m,\n\u001b[1;32m      <a href='vscode-notebook-cell://ssh-remote%2Bmlhacker/home/alilavaee/Documents/projects/CS505-HW/HW05/HW05.ipynb#Y211sdnNjb2RlLXJlbW90ZQ%3D%3D?line=3'>4</a>\u001b[0m                 save_model_dir\u001b[39m=\u001b[39;49m\u001b[39m\"\u001b[39;49m\u001b[39msaved_models_3\u001b[39;49m\u001b[39m\"\u001b[39;49m,\n\u001b[1;32m      <a href='vscode-notebook-cell://ssh-remote%2Bmlhacker/home/alilavaee/Documents/projects/CS505-HW/HW05/HW05.ipynb#Y211sdnNjb2RlLXJlbW90ZQ%3D%3D?line=4'>5</a>\u001b[0m                 patience\u001b[39m=\u001b[39;49m\u001b[39m3\u001b[39;49m)\n",
      "\u001b[1;32m/home/alilavaee/Documents/projects/CS505-HW/HW05/HW05.ipynb Cell 106\u001b[0m line \u001b[0;36m4\n\u001b[1;32m     <a href='vscode-notebook-cell://ssh-remote%2Bmlhacker/home/alilavaee/Documents/projects/CS505-HW/HW05/HW05.ipynb#Y211sdnNjb2RlLXJlbW90ZQ%3D%3D?line=42'>43</a>\u001b[0m loss \u001b[39m=\u001b[39m loss_fn(logits\u001b[39m.\u001b[39mcontiguous()\u001b[39m.\u001b[39mview(\u001b[39m-\u001b[39m\u001b[39m1\u001b[39m, NUM_CLASSES),\n\u001b[1;32m     <a href='vscode-notebook-cell://ssh-remote%2Bmlhacker/home/alilavaee/Documents/projects/CS505-HW/HW05/HW05.ipynb#Y211sdnNjb2RlLXJlbW90ZQ%3D%3D?line=43'>44</a>\u001b[0m                y\u001b[39m.\u001b[39mcontiguous()\u001b[39m.\u001b[39mview((\u001b[39m-\u001b[39m\u001b[39m1\u001b[39m, NUM_CLASSES) \u001b[39mif\u001b[39;00m\n\u001b[1;32m     <a href='vscode-notebook-cell://ssh-remote%2Bmlhacker/home/alilavaee/Documents/projects/CS505-HW/HW05/HW05.ipynb#Y211sdnNjb2RlLXJlbW90ZQ%3D%3D?line=44'>45</a>\u001b[0m                                    ONE_HOT_TARGETS \u001b[39melse\u001b[39;00m \u001b[39m-\u001b[39m\u001b[39m1\u001b[39m))\n\u001b[1;32m     <a href='vscode-notebook-cell://ssh-remote%2Bmlhacker/home/alilavaee/Documents/projects/CS505-HW/HW05/HW05.ipynb#Y211sdnNjb2RlLXJlbW90ZQ%3D%3D?line=46'>47</a>\u001b[0m loss\u001b[39m.\u001b[39mbackward()\n\u001b[0;32m---> <a href='vscode-notebook-cell://ssh-remote%2Bmlhacker/home/alilavaee/Documents/projects/CS505-HW/HW05/HW05.ipynb#Y211sdnNjb2RlLXJlbW90ZQ%3D%3D?line=48'>49</a>\u001b[0m running_loss \u001b[39m+\u001b[39m\u001b[39m=\u001b[39m (loss\u001b[39m.\u001b[39;49mcpu()\u001b[39m.\u001b[39mitem() \u001b[39m*\u001b[39m non_pad_idx_count)\n\u001b[1;32m     <a href='vscode-notebook-cell://ssh-remote%2Bmlhacker/home/alilavaee/Documents/projects/CS505-HW/HW05/HW05.ipynb#Y211sdnNjb2RlLXJlbW90ZQ%3D%3D?line=50'>51</a>\u001b[0m nn\u001b[39m.\u001b[39mutils\u001b[39m.\u001b[39mclip_grad_norm_(model\u001b[39m.\u001b[39mparameters(), max_norm\u001b[39m=\u001b[39m\u001b[39m1.0\u001b[39m)\n\u001b[1;32m     <a href='vscode-notebook-cell://ssh-remote%2Bmlhacker/home/alilavaee/Documents/projects/CS505-HW/HW05/HW05.ipynb#Y211sdnNjb2RlLXJlbW90ZQ%3D%3D?line=52'>53</a>\u001b[0m optimizer\u001b[39m.\u001b[39mstep()\n",
      "\u001b[0;31mKeyboardInterrupt\u001b[0m: "
     ]
    }
   ],
   "source": [
    "history = train(num_epochs=5,\n",
    "                history=history,\n",
    "                early_stopping=True,\n",
    "                save_model_dir=\"saved_models_3\",\n",
    "                patience=3)"
   ]
  },
  {
   "cell_type": "code",
   "execution_count": null,
   "metadata": {},
   "outputs": [
    {
     "data": {
      "text/plain": [
       "<matplotlib.legend.Legend at 0x7fdebc5e4070>"
      ]
     },
     "execution_count": 150,
     "metadata": {},
     "output_type": "execute_result"
    },
    {
     "data": {
      "image/png": "[encoded data removed]",
      "text/plain": [
       "<Figure size 1400x500 with 2 Axes>"
      ]
     },
     "metadata": {
      "image/png": {
       "height": 490,
       "width": 1389
      }
     },
     "output_type": "display_data"
    }
   ],
   "source": [
    "fig, axs = plt.subplots(nrows=1, ncols=2, figsize=(14, 5),\n",
    "                        tight_layout=True)\n",
    "\n",
    "axs[0].plot(history[\"train_accuracy\"], label=\"train\")\n",
    "axs[0].plot(history[\"val_accuracy\"], label=\"validation\")\n",
    "axs[0].set_xlabel(\"Epochs\")\n",
    "axs[0].set_ylabel(\"Accuracy\")\n",
    "axs[0].set_title(\"Accuracy vs Epochs\")\n",
    "axs[0].legend()\n",
    "\n",
    "axs[1].plot(history[\"train_loss\"], label=\"train\")\n",
    "axs[1].plot(history[\"val_loss\"], label=\"validation\")\n",
    "axs[1].set_xlabel(\"Epochs\")\n",
    "axs[1].set_ylabel(\"Loss\")\n",
    "axs[1].set_title(\"Loss vs Epochs\")\n",
    "axs[1].legend()"
   ]
  },
  {
   "cell_type": "code",
   "execution_count": null,
   "metadata": {},
   "outputs": [
    {
     "data": {
      "text/plain": [
       "<All keys matched successfully>"
      ]
     },
     "execution_count": 154,
     "metadata": {},
     "output_type": "execute_result"
    }
   ],
   "source": [
    "model = Model(\n",
    "    num_tags=NUM_CLASSES,\n",
    "    embed_dim=EMBEDDING_DIM,\n",
    "    embeddings=embeddings,\n",
    "    hidden_size=512,\n",
    "    D=2,\n",
    "    num_layers=4,\n",
    "    dropout=0.0,\n",
    "    freeze_embedding_weights=False,\n",
    "    device=device,\n",
    ")\n",
    "\n",
    "model.load_state_dict(\n",
    "    torch.load(\"saved_models_3/epoch_6_val_acc_0.9445271420769124.pth\")\n",
    ")"
   ]
  },
  {
   "cell_type": "code",
   "execution_count": null,
   "metadata": {},
   "outputs": [
    {
     "name": "stdout",
     "output_type": "stream",
     "text": [
      "Evaluating test\n"
     ]
    },
    {
     "name": "stderr",
     "output_type": "stream",
     "text": [
      "100%|██████████| 90/90 [00:03<00:00, 23.93it/s]\n"
     ]
    }
   ],
   "source": [
    "# Note: for a fair evaluation compared to the other methods I am using the other methods\n",
    "# since the previous two methods (baseline and Viterbi algorithm) rely on the entire corpus\n",
    "# In an ideal situation we would have split the other methods into train, validation, and test\n",
    "# but it doesn't make sense in the context of how the previous two methods works\n",
    "N = 0\n",
    "num_correct = 0\n",
    "\n",
    "# print(\"Evaluating train\")\n",
    "# for (X, y, mask, non_pad_idx_count) in tqdm(train_dataloader):\n",
    "#     logits = model.predict(X)\n",
    "#     y_pred = torch.argmax(logits[mask], dim=-1)\n",
    "#     num_correct += (y_pred == y[mask]).sum().item()\n",
    "#     N += non_pad_idx_count\n",
    "    \n",
    "# print(\"Evaluating val\")\n",
    "# for (X, y, mask, non_pad_idx_count) in tqdm(val_dataloader):\n",
    "#     logits = model.predict(X)\n",
    "#     y_pred = torch.argmax(logits[mask], dim=-1)\n",
    "#     num_correct += (y_pred == y[mask]).sum().item()\n",
    "#     N += non_pad_idx_count\n",
    "    \n",
    "print(\"Evaluating test\")\n",
    "for (X, y, mask, non_pad_idx_count) in tqdm(test_dataloader):\n",
    "    logits = model.predict(X)\n",
    "    y_pred = torch.argmax(logits[mask], dim=-1)\n",
    "    num_correct += (y_pred == y[mask]).sum().item()\n",
    "    N += non_pad_idx_count"
   ]
  },
  {
   "cell_type": "code",
   "execution_count": 239,
   "metadata": {},
   "outputs": [],
   "source": [
    "lstm_accuracy = num_correct / N"
   ]
  },
  {
   "cell_type": "code",
   "execution_count": 240,
   "metadata": {},
   "outputs": [
    {
     "data": {
      "text/plain": [
       "0.9440612829618954"
      ]
     },
     "execution_count": 240,
     "metadata": {},
     "output_type": "execute_result"
    }
   ],
   "source": [
    "lstm_accuracy"
   ]
  },
  {
   "cell_type": "code",
   "execution_count": 234,
   "metadata": {},
   "outputs": [
    {
     "data": {
      "text/html": [
       "<div>\n",
       "<style scoped>\n",
       "    .dataframe tbody tr th:only-of-type {\n",
       "        vertical-align: middle;\n",
       "    }\n",
       "\n",
       "    .dataframe tbody tr th {\n",
       "        vertical-align: top;\n",
       "    }\n",
       "\n",
       "    .dataframe thead th {\n",
       "        text-align: right;\n",
       "    }\n",
       "</style>\n",
       "<table border=\"1\" class=\"dataframe\">\n",
       "  <thead>\n",
       "    <tr style=\"text-align: right;\">\n",
       "      <th></th>\n",
       "      <th>method</th>\n",
       "      <th>accuracy</th>\n",
       "      <th>pct_above_baseline</th>\n",
       "      <th>cohens_kappa</th>\n",
       "    </tr>\n",
       "  </thead>\n",
       "  <tbody>\n",
       "    <tr>\n",
       "      <th>0</th>\n",
       "      <td>baseline</td>\n",
       "      <td>0.957078</td>\n",
       "      <td>0.000</td>\n",
       "      <td>0.000</td>\n",
       "    </tr>\n",
       "    <tr>\n",
       "      <th>1</th>\n",
       "      <td>viterbi</td>\n",
       "      <td>0.975385</td>\n",
       "      <td>0.018</td>\n",
       "      <td>0.427</td>\n",
       "    </tr>\n",
       "  </tbody>\n",
       "</table>\n",
       "</div>"
      ],
      "text/plain": [
       "     method  accuracy  pct_above_baseline  cohens_kappa\n",
       "0  baseline  0.957078               0.000         0.000\n",
       "1   viterbi  0.975385               0.018         0.427"
      ]
     },
     "execution_count": 234,
     "metadata": {},
     "output_type": "execute_result"
    }
   ],
   "source": [
    "results_df"
   ]
  },
  {
   "cell_type": "markdown",
   "metadata": {
    "id": "hc8hlBB98Wxm"
   },
   "source": [
    "### Part D:  "
   ]
  },
  {
   "cell_type": "markdown",
   "metadata": {
    "id": "rk1GMHZr8Wxm"
   },
   "source": [
    "Provide an analysis of what experiments you conducted with hyperparameters, what your results were, and in particular comment on how the two methods compare, especially given that one has *no* choice of hyperparameters, and one has *many* choices of parameters. How useful was the flexibility of choice in hyperparameters in Part C?"
   ]
  },
  {
   "cell_type": "markdown",
   "metadata": {
    "id": "jbrX23ja8Wxn"
   },
   "source": [
    "#### Optional:\n",
    "\n",
    "You might want to try doing this problem with a transformer model such as BERT. There are plenty of blog posts out there describing the details, and, as usual, chatGPT would have plenty of things to say about the topic...."
   ]
  }
 ],
 "metadata": {
  "colab": {
   "provenance": []
  },
  "kernelspec": {
   "display_name": "pytorch",
   "language": "python",
   "name": "python3"
  },
  "language_info": {
   "codemirror_mode": {
    "name": "ipython",
    "version": 3
   },
   "file_extension": ".py",
   "mimetype": "text/x-python",
   "name": "python",
   "nbconvert_exporter": "python",
   "pygments_lexer": "ipython3",
   "version": "3.9.18"
  }
 },
 "nbformat": 4,
 "nbformat_minor": 4
}
